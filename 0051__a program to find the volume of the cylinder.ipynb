{
 "cells": [
  {
   "cell_type": "code",
   "execution_count": null,
   "id": "af0450cc",
   "metadata": {},
   "outputs": [],
   "source": [
    "radius = float(input(\"please enter the radius: \"))\n",
    "lenth = int(input(\"enter the lenth\"))\n",
    "pi=22/7\n",
    "\n",
    "volume = pi*radius*lenth\n",
    "print(\"Volume : \",volume)\n",
    "\n",
    "total_milk_cost = volume*40\n",
    "print(\"total_milk_cost: \",total_milk_cost)"
   ]
  }
 ],
 "metadata": {
  "kernelspec": {
   "display_name": "Python 3 (ipykernel)",
   "language": "python",
   "name": "python3"
  },
  "language_info": {
   "codemirror_mode": {
    "name": "ipython",
    "version": 3
   },
   "file_extension": ".py",
   "mimetype": "text/x-python",
   "name": "python",
   "nbconvert_exporter": "python",
   "pygments_lexer": "ipython3",
   "version": "3.9.13"
  }
 },
 "nbformat": 4,
 "nbformat_minor": 5
}
