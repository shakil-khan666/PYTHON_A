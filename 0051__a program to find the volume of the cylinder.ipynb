{
 "cells": [
  {
   "cell_type": "code",
   "execution_count": null,
   "id": "1ceeca6e",
   "metadata": {},
   "outputs": [],
   "source": [
    "radius = float(input(\"please enter the radius: \"))\n",
    "lenth = int(input(\"enter the lenth\"))\n",
    "pi=22/7\n",
    "\n",
    "volum = pi*radius*lenth\n",
    "\n",
    "total_mi"
   ]
  }
 ],
 "metadata": {
  "kernelspec": {
   "display_name": "Python 3 (ipykernel)",
   "language": "python",
   "name": "python3"
  },
  "language_info": {
   "codemirror_mode": {
    "name": "ipython",
    "version": 3
   },
   "file_extension": ".py",
   "mimetype": "text/x-python",
   "name": "python",
   "nbconvert_exporter": "python",
   "pygments_lexer": "ipython3",
   "version": "3.9.13"
  }
 },
 "nbformat": 4,
 "nbformat_minor": 5
}
