{
 "cells": [
  {
   "cell_type": "code",
   "execution_count": 1,
   "id": "ac7a761b",
   "metadata": {},
   "outputs": [
    {
     "name": "stdout",
     "output_type": "stream",
     "text": [
      "2\n",
      "5\n"
     ]
    }
   ],
   "source": [
    "def f(y):\n",
    "    x=1 # eikhane local variable hisabe kaj korce  jar jonno x vaule 2 \n",
    "    x+=1\n",
    "    print(x) \n",
    "\n",
    "x=5\n",
    "f(x)\n",
    "print(x)\n",
    "    "
   ]
  },
  {
   "cell_type": "code",
   "execution_count": 3,
   "id": "cff8c240",
   "metadata": {},
   "outputs": [
    {
     "name": "stdout",
     "output_type": "stream",
     "text": [
      "5\n",
      "6\n",
      "5\n"
     ]
    }
   ],
   "source": [
    "def f(y):\n",
    "    print(x)\n",
    "    print(x+1) \n",
    "\n",
    "x=5\n",
    "f(x)\n",
    "print(x)"
   ]
  },
  {
   "cell_type": "code",
   "execution_count": 5,
   "id": "b5d9f7a5",
   "metadata": {},
   "outputs": [],
   "source": [
    "#Nested_function"
   ]
  },
  {
   "cell_type": "code",
   "execution_count": 6,
   "id": "da968d7a",
   "metadata": {},
   "outputs": [
    {
     "name": "stdout",
     "output_type": "stream",
     "text": [
      "valid x\n",
      "valid y\n"
     ]
    }
   ],
   "source": [
    "def x():\n",
    "    print(\"valid x\")\n",
    "    def y():\n",
    "        print(\"valid y\")\n",
    "    y()\n",
    "x()"
   ]
  },
  {
   "cell_type": "code",
   "execution_count": 7,
   "id": "69068cac",
   "metadata": {},
   "outputs": [
    {
     "name": "stdout",
     "output_type": "stream",
     "text": [
      "valid x\n",
      "valid y\n",
      "None\n"
     ]
    }
   ],
   "source": [
    "print(x())"
   ]
  },
  {
   "cell_type": "code",
   "execution_count": 9,
   "id": "3cf60b89",
   "metadata": {},
   "outputs": [
    {
     "name": "stdout",
     "output_type": "stream",
     "text": [
      "g(x) =  4\n",
      "h(x) =  5\n",
      "Main x =  3\n",
      "Main Z =  4\n"
     ]
    }
   ],
   "source": [
    "def g(x):\n",
    "    def h(x):\n",
    "        x=x+1\n",
    "        print(\"h(x) = \",x)\n",
    "    x=x+1\n",
    "    print(\"g(x) = \",x)\n",
    "    h(x)\n",
    "    return x\n",
    "\n",
    "x=3\n",
    "z = g(x)\n",
    "\n",
    "print(\"Main x = \",x)\n",
    "print(\"Main Z = \",z)\n",
    "    \n",
    "    "
   ]
  },
  {
   "cell_type": "code",
   "execution_count": null,
   "id": "ccfd6aa2",
   "metadata": {},
   "outputs": [],
   "source": []
  }
 ],
 "metadata": {
  "kernelspec": {
   "display_name": "Python 3 (ipykernel)",
   "language": "python",
   "name": "python3"
  },
  "language_info": {
   "codemirror_mode": {
    "name": "ipython",
    "version": 3
   },
   "file_extension": ".py",
   "mimetype": "text/x-python",
   "name": "python",
   "nbconvert_exporter": "python",
   "pygments_lexer": "ipython3",
   "version": "3.9.13"
  }
 },
 "nbformat": 4,
 "nbformat_minor": 5
}
