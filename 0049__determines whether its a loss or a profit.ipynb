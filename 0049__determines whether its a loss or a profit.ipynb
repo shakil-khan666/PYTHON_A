{
 "cells": [
  {
   "cell_type": "code",
   "execution_count": 1,
   "id": "50dc556a",
   "metadata": {},
   "outputs": [
    {
     "name": "stdout",
     "output_type": "stream",
     "text": [
      "enter the sell price : 400\n",
      "enter the cost price : 300\n",
      "profit\n"
     ]
    }
   ],
   "source": [
    "selling_price = int(input(\"enter the sell price : \"))\n",
    "cost_price = int(input(\"enter the cost price : \"))\n",
    "\n",
    "\n",
    "if selling_price>cost_price:\n",
    "    print(\"profit\")\n",
    "else:\n",
    "    print(\"loss\")"
   ]
  },
  {
   "cell_type": "code",
   "execution_count": 2,
   "id": "c37eb3f6",
   "metadata": {},
   "outputs": [
    {
     "name": "stdout",
     "output_type": "stream",
     "text": [
      "enter the sell price : 400\n",
      "enter the cost price : 200\n",
      "profit\n",
      "profit =  200\n"
     ]
    }
   ],
   "source": [
    "selling_price = int(input(\"enter the sell price : \"))\n",
    "cost_price = int(input(\"enter the cost price : \"))\n",
    "\n",
    "\n",
    "if selling_price>cost_price:\n",
    "    print(\"profit\")\n",
    "    profit = selling_price - cost_price\n",
    "    print(\"profit = \",profit)\n",
    "else:\n",
    "    print(\"loss\")\n",
    "    loss = cost_price-selling_price\n",
    "    print(\"loss = \",loss)"
   ]
  },
  {
   "cell_type": "code",
   "execution_count": null,
   "id": "21971b51",
   "metadata": {},
   "outputs": [],
   "source": []
  }
 ],
 "metadata": {
  "kernelspec": {
   "display_name": "Python 3 (ipykernel)",
   "language": "python",
   "name": "python3"
  },
  "language_info": {
   "codemirror_mode": {
    "name": "ipython",
    "version": 3
   },
   "file_extension": ".py",
   "mimetype": "text/x-python",
   "name": "python",
   "nbconvert_exporter": "python",
   "pygments_lexer": "ipython3",
   "version": "3.9.13"
  }
 },
 "nbformat": 4,
 "nbformat_minor": 5
}
