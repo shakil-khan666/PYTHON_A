{
 "cells": [
  {
   "cell_type": "code",
   "execution_count": 1,
   "id": "9128d2cd",
   "metadata": {},
   "outputs": [],
   "source": [
    "# সাধারণ পুনরাবৃত্তি (Iterative Method – আগেই দেওয়া হয়েছিল)\n",
    "\n"
   ]
  },
  {
   "cell_type": "code",
   "execution_count": 5,
   "id": "7139ba12",
   "metadata": {},
   "outputs": [
    {
     "name": "stdout",
     "output_type": "stream",
     "text": [
      "After 10 months, there are 55 rabbit pairs.\n"
     ]
    }
   ],
   "source": [
    "def fibonacci_rabbits(n):\n",
    "    a, b = 1, 1\n",
    "    for _ in range(n - 2):\n",
    "        a, b = b, a + b\n",
    "    return b if n > 1 else a\n",
    "months = 10\n",
    "print(f\"After {months} months, there are {fibonacci_rabbits(months)} rabbit pairs.\")\n"
   ]
  },
  {
   "cell_type": "code",
   "execution_count": 6,
   "id": "beec1614",
   "metadata": {},
   "outputs": [],
   "source": [
    "#পুনরাবৃত্তি সহ রিকার্সন (Simple Recursion)"
   ]
  },
  {
   "cell_type": "code",
   "execution_count": 7,
   "id": "862a2f74",
   "metadata": {},
   "outputs": [],
   "source": [
    "def fibonacci_rabbits_recursive(n):\n",
    "    if n <= 1:\n",
    "        return n\n",
    "    return fibonacci_rabbits_recursive(n - 1) + fibonacci_rabbits_recursive(n - 2)\n"
   ]
  },
  {
   "cell_type": "code",
   "execution_count": 8,
   "id": "d7ef0597",
   "metadata": {},
   "outputs": [],
   "source": [
    "#✅ পদ্ধতি ৩: রিকার্সন + মেমোইজেশন (Recursion with Memoization)"
   ]
  },
  {
   "cell_type": "code",
   "execution_count": 10,
   "id": "f3885d6c",
   "metadata": {},
   "outputs": [],
   "source": [
    "memo = {}\n",
    "\n",
    "def fibonacci_rabbits_memo(n):\n",
    "    if n in memo:\n",
    "        return memo[n]\n",
    "    if n <= 1:\n",
    "        memo[n] = n\n",
    "    else:\n",
    "        memo[n] = fibonacci_rabbits_memo(n - 1) + fibonacci_rabbits_memo(n - 2)\n",
    "    return memo[n]\n"
   ]
  },
  {
   "cell_type": "code",
   "execution_count": null,
   "id": "6908d0c3",
   "metadata": {},
   "outputs": [],
   "source": [
    "#✅ পদ্ধতি ৪: ম্যাথমেটিক্যাল ফর্মুলা (Binet’s Formula)"
   ]
  },
  {
   "cell_type": "code",
   "execution_count": 11,
   "id": "fb30a3e9",
   "metadata": {},
   "outputs": [],
   "source": [
    "import math\n",
    "\n",
    "def fibonacci_rabbits_formula(n):\n",
    "    sqrt_5 = math.sqrt(5)\n",
    "    phi = (1 + sqrt_5) / 2\n",
    "    return round((phi ** n) / sqrt_5)\n"
   ]
  },
  {
   "cell_type": "code",
   "execution_count": 14,
   "id": "d7beee7b",
   "metadata": {},
   "outputs": [],
   "source": [
    "#✅ পদ্ধতি ৫: ডাইনামিক প্রোগ্রামিং (Tabulation)"
   ]
  },
  {
   "cell_type": "code",
   "execution_count": 13,
   "id": "5b523b97",
   "metadata": {},
   "outputs": [],
   "source": [
    "def fibonacci_rabbits_dp(n):\n",
    "    if n <= 1:\n",
    "        return n\n",
    "    fib = [0] * (n + 1)\n",
    "    fib[0], fib[1] = 0, 1\n",
    "    for i in range(2, n + 1):\n",
    "        fib[i] = fib[i - 1] + fib[i - 2]\n",
    "    return fib[n]\n"
   ]
  },
  {
   "cell_type": "code",
   "execution_count": 15,
   "id": "0230c7c8",
   "metadata": {},
   "outputs": [
    {
     "name": "stdout",
     "output_type": "stream",
     "text": [
      "Total rabbit pairs after 10 months:\n",
      "Iterative: 55\n",
      "Recursive: 55\n",
      "Memoization: 55\n",
      "Formula: 55\n",
      "DP: 55\n"
     ]
    }
   ],
   "source": [
    "months = 10\n",
    "print(f\"Total rabbit pairs after {months} months:\")\n",
    "print(\"Iterative:\", fibonacci_rabbits(months))\n",
    "print(\"Recursive:\", fibonacci_rabbits_recursive(months))\n",
    "print(\"Memoization:\", fibonacci_rabbits_memo(months))\n",
    "print(\"Formula:\", fibonacci_rabbits_formula(months))\n",
    "print(\"DP:\", fibonacci_rabbits_dp(months))\n"
   ]
  },
  {
   "cell_type": "code",
   "execution_count": null,
   "id": "f51c23e9",
   "metadata": {},
   "outputs": [],
   "source": []
  }
 ],
 "metadata": {
  "kernelspec": {
   "display_name": "Python 3 (ipykernel)",
   "language": "python",
   "name": "python3"
  },
  "language_info": {
   "codemirror_mode": {
    "name": "ipython",
    "version": 3
   },
   "file_extension": ".py",
   "mimetype": "text/x-python",
   "name": "python",
   "nbconvert_exporter": "python",
   "pygments_lexer": "ipython3",
   "version": "3.9.13"
  }
 },
 "nbformat": 4,
 "nbformat_minor": 5
}
