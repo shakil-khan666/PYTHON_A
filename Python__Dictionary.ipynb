{
 "cells": [
  {
   "cell_type": "code",
   "execution_count": 2,
   "id": "16b05b3c",
   "metadata": {},
   "outputs": [
    {
     "name": "stdout",
     "output_type": "stream",
     "text": [
      "{}\n"
     ]
    }
   ],
   "source": [
    "D={}\n",
    "print(D)"
   ]
  },
  {
   "cell_type": "code",
   "execution_count": 3,
   "id": "da0b8aed",
   "metadata": {},
   "outputs": [
    {
     "name": "stdout",
     "output_type": "stream",
     "text": [
      "{'name': 'shakil', 'Gender': 'Male'}\n"
     ]
    }
   ],
   "source": [
    "D={\"name\":\"shakil\",\"Gender\":\"Male\"}\n",
    "print(D)"
   ]
  },
  {
   "cell_type": "code",
   "execution_count": 4,
   "id": "5ca74ab9",
   "metadata": {},
   "outputs": [
    {
     "name": "stdout",
     "output_type": "stream",
     "text": [
      "{'name': 'jemi', 'Gender': 'female', 'age': '22', 'Marks': {'ban': 34, 'eng': 25, 'eco': 65}}\n"
     ]
    }
   ],
   "source": [
    "D1={\"name\":\"jemi\",\"Gender\":\"female\",\"age\":\"22\",\"Marks\":{\"ban\":34,\"eng\":25,\"eco\":65}}\n",
    "print(D1)"
   ]
  },
  {
   "cell_type": "code",
   "execution_count": 6,
   "id": "c92f46d9",
   "metadata": {},
   "outputs": [
    {
     "data": {
      "text/plain": [
       "'jemi'"
      ]
     },
     "execution_count": 6,
     "metadata": {},
     "output_type": "execute_result"
    }
   ],
   "source": [
    "D1['name']"
   ]
  },
  {
   "cell_type": "code",
   "execution_count": 7,
   "id": "dbc6d99e",
   "metadata": {},
   "outputs": [
    {
     "data": {
      "text/plain": [
       "'female'"
      ]
     },
     "execution_count": 7,
     "metadata": {},
     "output_type": "execute_result"
    }
   ],
   "source": [
    "D1['Gender']"
   ]
  },
  {
   "cell_type": "code",
   "execution_count": 9,
   "id": "99179d71",
   "metadata": {},
   "outputs": [
    {
     "data": {
      "text/plain": [
       "{'ban': 34, 'eng': 25, 'eco': 65}"
      ]
     },
     "execution_count": 9,
     "metadata": {},
     "output_type": "execute_result"
    }
   ],
   "source": [
    "D1['Marks']"
   ]
  },
  {
   "cell_type": "code",
   "execution_count": 11,
   "id": "bf9f8e6f",
   "metadata": {},
   "outputs": [
    {
     "data": {
      "text/plain": [
       "25"
      ]
     },
     "execution_count": 11,
     "metadata": {},
     "output_type": "execute_result"
    }
   ],
   "source": [
    "D1['Marks']['eng']"
   ]
  },
  {
   "cell_type": "code",
   "execution_count": 18,
   "id": "36e8c18c",
   "metadata": {},
   "outputs": [
    {
     "name": "stdout",
     "output_type": "stream",
     "text": [
      "{'name': 'Busra', 'Gender': 'Male', 'Name': 'Busra'}\n"
     ]
    }
   ],
   "source": [
    "D['name']='Busra'\n",
    "print(D)"
   ]
  },
  {
   "cell_type": "code",
   "execution_count": 20,
   "id": "324da862",
   "metadata": {},
   "outputs": [
    {
     "name": "stdout",
     "output_type": "stream",
     "text": [
      "{'name': 'jemi', 'Gender': 'female', 'age': '22', 'Marks': {'ban': 61, 'eng': 25, 'eco': 65}, 'Name': 'Busra'}\n"
     ]
    }
   ],
   "source": [
    "D1['Marks']['ban'] = 61\n",
    "print(D1)"
   ]
  },
  {
   "cell_type": "code",
   "execution_count": 22,
   "id": "e167dfb2",
   "metadata": {},
   "outputs": [
    {
     "data": {
      "text/plain": [
       "'Busra'"
      ]
     },
     "execution_count": 22,
     "metadata": {},
     "output_type": "execute_result"
    }
   ],
   "source": [
    "D.get('name')"
   ]
  },
  {
   "cell_type": "code",
   "execution_count": null,
   "id": "339cb610",
   "metadata": {},
   "outputs": [],
   "source": []
  }
 ],
 "metadata": {
  "kernelspec": {
   "display_name": "Python 3 (ipykernel)",
   "language": "python",
   "name": "python3"
  },
  "language_info": {
   "codemirror_mode": {
    "name": "ipython",
    "version": 3
   },
   "file_extension": ".py",
   "mimetype": "text/x-python",
   "name": "python",
   "nbconvert_exporter": "python",
   "pygments_lexer": "ipython3",
   "version": "3.9.13"
  }
 },
 "nbformat": 4,
 "nbformat_minor": 5
}
