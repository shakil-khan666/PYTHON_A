{
 "cells": [
  {
   "cell_type": "code",
   "execution_count": 2,
   "id": "d00fb936",
   "metadata": {},
   "outputs": [
    {
     "name": "stdout",
     "output_type": "stream",
     "text": [
      "1\n",
      "2\n",
      "3\n",
      "4\n"
     ]
    }
   ],
   "source": [
    "L=[1,2,3,4 ]\n",
    "for i in L:\n",
    "    print(i)"
   ]
  },
  {
   "cell_type": "code",
   "execution_count": null,
   "id": "8c395912",
   "metadata": {},
   "outputs": [],
   "source": [
    "#What is iterators Python-এ Iterator এমন একটি অবজেক্ট যেটা একবারে একটি করে মান return করতে পারে (__next__() method দিয়ে)।\n",
    "#Bonus Tip: Iterators are memory efficientকারণ এটা সব ডেটা একসাথে মেমোরিতে রাখে না, বরং একটা করে মান দেয়। তাই huge ডেটার জন্য এটা পারফরম্যান্সে ভালো\n",
    "#কেন Iterators দরকার?1. বড় ডেটার সাথে কাজ করার জন্যধরো তোমার কাছে ১০ কোটি ডেটার একটা ফাইল আছে। তুমি যদি সব ডেটা একবারে মেমোরিতে আনো, তাহলে:মেমোরি ফুল হয়ে যাবে 💥\n",
    "#পারফরম্যান্স খারাপ হবে\n",
    "\n",
    "#Iterator ব্যবহার করলে একসাথে সব ডেটা না এনে, একটার পর একটা মান প্রসেস করা যায়।"
   ]
  },
  {
   "cell_type": "code",
   "execution_count": 5,
   "id": "6cd15942",
   "metadata": {},
   "outputs": [
    {
     "name": "stdout",
     "output_type": "stream",
     "text": [
      "138.375\n",
      "0.75\n"
     ]
    }
   ],
   "source": [
    "L=[x for x in range(1,1000)]\n",
    "import sys\n",
    "\n",
    "print(sys.getsizeof(L)/64)\n",
    "\n",
    "x = range(1,10000)\n",
    "print(sys.getsizeof(x)/64)\n",
    "\n"
   ]
  },
  {
   "cell_type": "code",
   "execution_count": 6,
   "id": "479e0b8c",
   "metadata": {},
   "outputs": [],
   "source": [
    "#Iterable হলো এমন কোনো object, যেটার মধ্যে একটার পর একটা item (data) ঘুরে ঘুরে access করা যায়।\n",
    "\n",
    "#Python-এ যেকোনো list, tuple, string, set, dictionary ইত্যাদি হলো iterable।"
   ]
  },
  {
   "cell_type": "code",
   "execution_count": 7,
   "id": "cdcc06f8",
   "metadata": {},
   "outputs": [],
   "source": [
    "#Iterable\tযেটার মধ্যে ঘুরে ঘুরে মান পাওয়া যায়\n",
    "#Iterator\tযেটা একটার পর একটা মান দেয়\n",
    "#iter(obj)\titerable → iterator বানায়\n",
    "#next(iterator)\tপরের মান দেয় (না থাকলে StopIteration)"
   ]
  },
  {
   "cell_type": "code",
   "execution_count": 8,
   "id": "8899dde2",
   "metadata": {},
   "outputs": [
    {
     "data": {
      "text/plain": [
       "['__add__',\n",
       " '__class__',\n",
       " '__class_getitem__',\n",
       " '__contains__',\n",
       " '__delattr__',\n",
       " '__dir__',\n",
       " '__doc__',\n",
       " '__eq__',\n",
       " '__format__',\n",
       " '__ge__',\n",
       " '__getattribute__',\n",
       " '__getitem__',\n",
       " '__getnewargs__',\n",
       " '__gt__',\n",
       " '__hash__',\n",
       " '__init__',\n",
       " '__init_subclass__',\n",
       " '__iter__',\n",
       " '__le__',\n",
       " '__len__',\n",
       " '__lt__',\n",
       " '__mul__',\n",
       " '__ne__',\n",
       " '__new__',\n",
       " '__reduce__',\n",
       " '__reduce_ex__',\n",
       " '__repr__',\n",
       " '__rmul__',\n",
       " '__setattr__',\n",
       " '__sizeof__',\n",
       " '__str__',\n",
       " '__subclasshook__',\n",
       " 'count',\n",
       " 'index']"
      ]
     },
     "execution_count": 8,
     "metadata": {},
     "output_type": "execute_result"
    }
   ],
   "source": [
    "T=(1,2,3,4)\n",
    "dir(T)"
   ]
  },
  {
   "cell_type": "code",
   "execution_count": null,
   "id": "76f6fcf1",
   "metadata": {},
   "outputs": [],
   "source": []
  }
 ],
 "metadata": {
  "kernelspec": {
   "display_name": "Python 3 (ipykernel)",
   "language": "python",
   "name": "python3"
  },
  "language_info": {
   "codemirror_mode": {
    "name": "ipython",
    "version": 3
   },
   "file_extension": ".py",
   "mimetype": "text/x-python",
   "name": "python",
   "nbconvert_exporter": "python",
   "pygments_lexer": "ipython3",
   "version": "3.9.13"
  }
 },
 "nbformat": 4,
 "nbformat_minor": 5
}
