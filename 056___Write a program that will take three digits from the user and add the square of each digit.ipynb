{
 "cells": [
  {
   "cell_type": "code",
   "execution_count": null,
   "id": "a6a1e6c7",
   "metadata": {},
   "outputs": [],
   "source": [
    "number = int(input(\"enter the number: \"))\n",
    "number =num\n",
    "sum_num=0\n",
    "while(num!=0):\n",
    "    r=num%10\n",
    "    sum_num=sum_num+r*r\n",
    "    num=num/10\n",
    "print(\"squre of sum= \",sum_num)"
   ]
  },
  {
   "cell_type": "code",
   "execution_count": null,
   "id": "bb772cb5",
   "metadata": {},
   "outputs": [],
   "source": []
  }
 ],
 "metadata": {
  "kernelspec": {
   "display_name": "Python 3 (ipykernel)",
   "language": "python",
   "name": "python3"
  },
  "language_info": {
   "codemirror_mode": {
    "name": "ipython",
    "version": 3
   },
   "file_extension": ".py",
   "mimetype": "text/x-python",
   "name": "python",
   "nbconvert_exporter": "python",
   "pygments_lexer": "ipython3",
   "version": "3.9.13"
  }
 },
 "nbformat": 4,
 "nbformat_minor": 5
}
