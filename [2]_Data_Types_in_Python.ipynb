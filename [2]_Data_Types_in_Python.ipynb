{
 "cells": [
  {
   "cell_type": "markdown",
   "id": "95588d1b",
   "metadata": {},
   "source": [
    "# Data type\n",
    "basic type{intiger,float,complex,bool,string}"
   ]
  },
  {
   "cell_type": "code",
   "execution_count": 1,
   "id": "64611927",
   "metadata": {},
   "outputs": [
    {
     "name": "stdout",
     "output_type": "stream",
     "text": [
      "4\n"
     ]
    },
    {
     "data": {
      "text/plain": [
       "int"
      ]
     },
     "execution_count": 1,
     "metadata": {},
     "output_type": "execute_result"
    }
   ],
   "source": [
    "print(4)\n",
    "int\n"
   ]
  },
  {
   "cell_type": "code",
   "execution_count": 2,
   "id": "b39a1306",
   "metadata": {},
   "outputs": [
    {
     "name": "stdout",
     "output_type": "stream",
     "text": [
      "4.5\n"
     ]
    }
   ],
   "source": [
    "print(4.5)"
   ]
  },
  {
   "cell_type": "code",
   "execution_count": 3,
   "id": "1730f4e1",
   "metadata": {},
   "outputs": [
    {
     "name": "stdout",
     "output_type": "stream",
     "text": [
      "(4+3j)\n"
     ]
    }
   ],
   "source": [
    "print(4+3j)"
   ]
  },
  {
   "cell_type": "code",
   "execution_count": 5,
   "id": "5ef92a8c",
   "metadata": {},
   "outputs": [
    {
     "name": "stdout",
     "output_type": "stream",
     "text": [
      "True\n",
      "False\n"
     ]
    }
   ],
   "source": [
    "print(True)\n",
    "print(False)"
   ]
  },
  {
   "cell_type": "code",
   "execution_count": 6,
   "id": "ec5b1feb",
   "metadata": {},
   "outputs": [
    {
     "name": "stdout",
     "output_type": "stream",
     "text": [
      "shakil khan\n"
     ]
    }
   ],
   "source": [
    "print(\"shakil khan\")"
   ]
  },
  {
   "cell_type": "code",
   "execution_count": 8,
   "id": "9fd1c715",
   "metadata": {},
   "outputs": [
    {
     "name": "stdout",
     "output_type": "stream",
     "text": [
      "{1, 2, 3, 4}\n"
     ]
    }
   ],
   "source": [
    "#set\n",
    "print({1,2,3,4})"
   ]
  },
  {
   "cell_type": "code",
   "execution_count": 10,
   "id": "367e00e4",
   "metadata": {},
   "outputs": [
    {
     "name": "stdout",
     "output_type": "stream",
     "text": [
      "(1, 2, 3, 4, 5)\n"
     ]
    }
   ],
   "source": [
    "#tupple\n",
    "print((1,2,3,4,5))"
   ]
  },
  {
   "cell_type": "code",
   "execution_count": 13,
   "id": "0ff37a56",
   "metadata": {},
   "outputs": [
    {
     "name": "stdout",
     "output_type": "stream",
     "text": [
      "[1, 2, 3, 4, 5]\n",
      "list[0]\n"
     ]
    }
   ],
   "source": [
    "#list\n",
    "print([1,2,3,4,5])\n"
   ]
  },
  {
   "cell_type": "code",
   "execution_count": 15,
   "id": "e69d127f",
   "metadata": {},
   "outputs": [
    {
     "name": "stdout",
     "output_type": "stream",
     "text": [
      "{'name ': 'shakil khan', 'age': '30', 'sex': 'male'}\n"
     ]
    }
   ],
   "source": [
    "#dictonary\n",
    "print({\"name \":\"shakil khan\",\"age\":\"30\",\"sex\":\"male\"})"
   ]
  },
  {
   "cell_type": "code",
   "execution_count": null,
   "id": "0e270f34",
   "metadata": {},
   "outputs": [],
   "source": []
  }
 ],
 "metadata": {
  "kernelspec": {
   "display_name": "Python 3 (ipykernel)",
   "language": "python",
   "name": "python3"
  },
  "language_info": {
   "codemirror_mode": {
    "name": "ipython",
    "version": 3
   },
   "file_extension": ".py",
   "mimetype": "text/x-python",
   "name": "python",
   "nbconvert_exporter": "python",
   "pygments_lexer": "ipython3",
   "version": "3.9.13"
  }
 },
 "nbformat": 4,
 "nbformat_minor": 5
}
