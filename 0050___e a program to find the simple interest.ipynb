{
 "cells": [
  {
   "cell_type": "code",
   "execution_count": 3,
   "id": "f601c018",
   "metadata": {},
   "outputs": [
    {
     "name": "stdout",
     "output_type": "stream",
     "text": [
      "enter the value10\n",
      "interest rate 1\n",
      "enter the month12\n",
      "Total money =  11.2\n"
     ]
    }
   ],
   "source": [
    "value_principle =float(input(\"enter the value\"))\n",
    "interest=float(input(\"interest rate \"))\n",
    "time = float(input(\"enter the month\"))\n",
    "\n",
    "total = value_principle+(value_principle*interest*time)/100\n",
    "print(\"Total money = \",total)"
   ]
  },
  {
   "cell_type": "code",
   "execution_count": null,
   "id": "254f8d0e",
   "metadata": {},
   "outputs": [],
   "source": []
  }
 ],
 "metadata": {
  "kernelspec": {
   "display_name": "Python 3 (ipykernel)",
   "language": "python",
   "name": "python3"
  },
  "language_info": {
   "codemirror_mode": {
    "name": "ipython",
    "version": 3
   },
   "file_extension": ".py",
   "mimetype": "text/x-python",
   "name": "python",
   "nbconvert_exporter": "python",
   "pygments_lexer": "ipython3",
   "version": "3.9.13"
  }
 },
 "nbformat": 4,
 "nbformat_minor": 5
}
