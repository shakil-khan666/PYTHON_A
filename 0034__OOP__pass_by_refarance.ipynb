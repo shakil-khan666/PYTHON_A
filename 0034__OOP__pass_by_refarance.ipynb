{
 "cells": [
  {
   "cell_type": "code",
   "execution_count": 11,
   "id": "0e5762be",
   "metadata": {},
   "outputs": [
    {
     "name": "stdout",
     "output_type": "stream",
     "text": [
      "hello sir  shakil\n"
     ]
    }
   ],
   "source": [
    "class Customer:\n",
    "    def __init__(self,name,gender):\n",
    "        self.name=name\n",
    "        self.gender=gender\n",
    "\n",
    "\n",
    "def details(customer):\n",
    "    if customer.gender ==\"male\":\n",
    "        print(\"hello sir \", customer.name)\n",
    "    else:\n",
    "        print(\"hello mam ,\",customer.gender)\n",
    "   \n",
    "\n",
    "cust=Customer(\"shakil\",\"male\")\n",
    "details(cust)\n",
    "\n",
    "        "
   ]
  },
  {
   "cell_type": "code",
   "execution_count": 16,
   "id": "052e3985",
   "metadata": {},
   "outputs": [
    {
     "name": "stdout",
     "output_type": "stream",
     "text": [
      "jemi\n",
      "2088191537072\n",
      "jemi\n",
      "2088191537072\n"
     ]
    }
   ],
   "source": [
    "class Customer:\n",
    "    def __init__(self,name):\n",
    "        self.name=name\n",
    "        \n",
    "\n",
    "\n",
    "def details(customer):\n",
    "    customer.name=\"jemi\"\n",
    "    print(customer.name)\n",
    "    print(id(customer.name))\n",
    "   \n",
    "\n",
    "cust=Customer(\"shakil\")\n",
    "details(cust)\n",
    "print(cust.name)\n",
    "print(id(cust.name))"
   ]
  },
  {
   "cell_type": "code",
   "execution_count": null,
   "id": "8bf05707",
   "metadata": {},
   "outputs": [],
   "source": []
  }
 ],
 "metadata": {
  "kernelspec": {
   "display_name": "Python 3 (ipykernel)",
   "language": "python",
   "name": "python3"
  },
  "language_info": {
   "codemirror_mode": {
    "name": "ipython",
    "version": 3
   },
   "file_extension": ".py",
   "mimetype": "text/x-python",
   "name": "python",
   "nbconvert_exporter": "python",
   "pygments_lexer": "ipython3",
   "version": "3.9.13"
  }
 },
 "nbformat": 4,
 "nbformat_minor": 5
}
