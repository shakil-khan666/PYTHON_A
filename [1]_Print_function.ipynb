{
 "cells": [
  {
   "cell_type": "code",
   "execution_count": 1,
   "id": "57c0610d",
   "metadata": {},
   "outputs": [
    {
     "name": "stdout",
     "output_type": "stream",
     "text": [
      "hello shakil\n"
     ]
    }
   ],
   "source": [
    "print(\"hello shakil\")"
   ]
  },
  {
   "cell_type": "code",
   "execution_count": 2,
   "id": "20ab568f",
   "metadata": {},
   "outputs": [
    {
     "name": "stdout",
     "output_type": "stream",
     "text": [
      "5\n"
     ]
    }
   ],
   "source": [
    "print(5)"
   ]
  },
  {
   "cell_type": "code",
   "execution_count": 3,
   "id": "e12a41e1",
   "metadata": {},
   "outputs": [
    {
     "name": "stdout",
     "output_type": "stream",
     "text": [
      "10\n"
     ]
    }
   ],
   "source": [
    "print(5+5)"
   ]
  },
  {
   "cell_type": "code",
   "execution_count": 4,
   "id": "5a9aef0c",
   "metadata": {},
   "outputs": [
    {
     "name": "stdout",
     "output_type": "stream",
     "text": [
      "shakil khan\n"
     ]
    }
   ],
   "source": [
    "print(\"shakil khan\")"
   ]
  },
  {
   "cell_type": "code",
   "execution_count": 5,
   "id": "ed169704",
   "metadata": {},
   "outputs": [
    {
     "name": "stdout",
     "output_type": "stream",
     "text": [
      "shakil jemi safwan\n"
     ]
    }
   ],
   "source": [
    "print(\"shakil\",\"jemi\",\"safwan\")"
   ]
  },
  {
   "cell_type": "code",
   "execution_count": 7,
   "id": "5b766fbd",
   "metadata": {},
   "outputs": [
    {
     "name": "stdout",
     "output_type": "stream",
     "text": [
      "Bangladesh-nepal-vutan-pakistan\n"
     ]
    }
   ],
   "source": [
    "print(\"Bangladesh\",\"nepal\",\"vutan\",\"pakistan\",sep= '-')"
   ]
  },
  {
   "cell_type": "code",
   "execution_count": null,
   "id": "b9c8820b",
   "metadata": {},
   "outputs": [],
   "source": [
    "print()"
   ]
  }
 ],
 "metadata": {
  "kernelspec": {
   "display_name": "Python 3 (ipykernel)",
   "language": "python",
   "name": "python3"
  },
  "language_info": {
   "codemirror_mode": {
    "name": "ipython",
    "version": 3
   },
   "file_extension": ".py",
   "mimetype": "text/x-python",
   "name": "python",
   "nbconvert_exporter": "python",
   "pygments_lexer": "ipython3",
   "version": "3.9.13"
  }
 },
 "nbformat": 4,
 "nbformat_minor": 5
}
