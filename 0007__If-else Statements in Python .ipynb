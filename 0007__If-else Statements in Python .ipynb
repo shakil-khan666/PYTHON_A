{
 "cells": [
  {
   "cell_type": "code",
   "execution_count": 20,
   "id": "c0dd78d5",
   "metadata": {},
   "outputs": [
    {
     "name": "stdout",
     "output_type": "stream",
     "text": [
      "please given email: shakilkhankhan6063@gamil.com\n",
      "password : 456\n",
      "Password Incorrect\n",
      "abar de pasword 6063\n",
      "welcome to my chanel\n"
     ]
    }
   ],
   "source": [
    "email=input(\"please given email: \") \n",
    "password = input(\"password : \")\n",
    "if email == \"shakilkhankhan6063@gamil.com\" and password == '6063':\n",
    "    print(\"welcome\")\n",
    "elif email == \"shakilkhankhan6063@gamil.com\" and password != '6063':\n",
    "    print(\"Password Incorrect\")\n",
    "    password=input(\"abar de pasword \")\n",
    "    if password =='6063':\n",
    "        print(\"welcome to my chanel\")\n",
    "    else :\n",
    "        print(\"sorry again\")\n",
    "    \n",
    "else :\n",
    "    print(\"sorry cheak again\")"
   ]
  },
  {
   "cell_type": "code",
   "execution_count": 19,
   "id": "bd753b61",
   "metadata": {},
   "outputs": [
    {
     "name": "stdout",
     "output_type": "stream",
     "text": [
      "Please give your email: shakilkhankhan6063@gmail.com\n",
      "Enter password: 4565\n",
      "Password Incorrect\n",
      "Try again: 6063\n",
      "Welcome to my channel\n"
     ]
    }
   ],
   "source": [
    "email = input(\"Please give your email: \") \n",
    "password = input(\"Enter password: \")\n",
    "\n",
    "if email == \"shakilkhankhan6063@gmail.com\" and password == '6063':\n",
    "    print(\"Welcome\")\n",
    "elif email == \"shakilkhankhan6063@gmail.com\" and password != '6063':\n",
    "    print(\"Password Incorrect\")\n",
    "    password = input(\"Try again: \")\n",
    "    if password == '6063':\n",
    "        print(\"Welcome to my channel\")\n",
    "    else:\n",
    "        print(\"Sorry, wrong password again\")\n",
    "else:\n",
    "    print(\"Sorry, check your email again\")\n"
   ]
  },
  {
   "cell_type": "code",
   "execution_count": null,
   "id": "51a3679a",
   "metadata": {},
   "outputs": [],
   "source": []
  }
 ],
 "metadata": {
  "kernelspec": {
   "display_name": "Python 3 (ipykernel)",
   "language": "python",
   "name": "python3"
  },
  "language_info": {
   "codemirror_mode": {
    "name": "ipython",
    "version": 3
   },
   "file_extension": ".py",
   "mimetype": "text/x-python",
   "name": "python",
   "nbconvert_exporter": "python",
   "pygments_lexer": "ipython3",
   "version": "3.9.13"
  }
 },
 "nbformat": 4,
 "nbformat_minor": 5
}
