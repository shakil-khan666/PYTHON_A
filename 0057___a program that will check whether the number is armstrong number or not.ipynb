{
 "cells": [
  {
   "cell_type": "code",
   "execution_count": 2,
   "id": "66045992",
   "metadata": {},
   "outputs": [
    {
     "name": "stdout",
     "output_type": "stream",
     "text": [
      "enter the number: 123\n",
      " sum=  36\n",
      "amostong number\n"
     ]
    }
   ],
   "source": [
    "number = int(input(\"enter the number: \"))\n",
    "num=number\n",
    "sum_num=0\n",
    "while(num!=0):\n",
    "    r=num%10\n",
    "    sum_num=sum_num+r*r*r\n",
    "    num=num//10\n",
    "print(\" sum= \",sum_num)\n",
    "\n",
    "if sum_num==num:\n",
    "    print(\"Amostong number\")\n",
    "else:\n",
    "    print(\"amostong number\")"
   ]
  },
  {
   "cell_type": "code",
   "execution_count": null,
   "id": "61578b9f",
   "metadata": {},
   "outputs": [],
   "source": []
  }
 ],
 "metadata": {
  "kernelspec": {
   "display_name": "Python 3 (ipykernel)",
   "language": "python",
   "name": "python3"
  },
  "language_info": {
   "codemirror_mode": {
    "name": "ipython",
    "version": 3
   },
   "file_extension": ".py",
   "mimetype": "text/x-python",
   "name": "python",
   "nbconvert_exporter": "python",
   "pygments_lexer": "ipython3",
   "version": "3.9.13"
  }
 },
 "nbformat": 4,
 "nbformat_minor": 5
}
