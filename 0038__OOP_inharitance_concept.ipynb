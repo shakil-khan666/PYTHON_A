{
 "cells": [
  {
   "cell_type": "code",
   "execution_count": 7,
   "id": "4e7eec8d",
   "metadata": {},
   "outputs": [],
   "source": [
    "#inharitance\n",
    "\n"
   ]
  },
  {
   "cell_type": "code",
   "execution_count": 8,
   "id": "2351848c",
   "metadata": {},
   "outputs": [
    {
     "name": "stdout",
     "output_type": "stream",
     "text": [
      "Log in\n",
      "register\n",
      "Enroll\n",
      "rivew\n"
     ]
    }
   ],
   "source": [
    "class User:\n",
    "    def login(self):\n",
    "        print(\"Log in\")\n",
    "    def  register(self):\n",
    "        print(\"register\")\n",
    "        \n",
    "class Student(User):\n",
    "    def enroll(self):\n",
    "        print(\"Enroll\")\n",
    "    def rivew(self):\n",
    "        print(\"rivew\")\n",
    "stu=Student()\n",
    "\n",
    "stu.login()\n",
    "stu.register()\n",
    "stu.enroll()\n",
    "stu.rivew()"
   ]
  },
  {
   "cell_type": "code",
   "execution_count": 1,
   "id": "e4df601b",
   "metadata": {},
   "outputs": [],
   "source": [
    "#test me"
   ]
  },
  {
   "cell_type": "code",
   "execution_count": 5,
   "id": "359cb45d",
   "metadata": {},
   "outputs": [
    {
     "name": "stdout",
     "output_type": "stream",
     "text": [
      "Log in\n",
      "register\n",
      "Enroll\n",
      "rivew\n"
     ]
    }
   ],
   "source": [
    "class User:\n",
    "    def log_in(self):\n",
    "        print(\"Log in\")\n",
    "    def register(self):\n",
    "        print(\"register\")\n",
    "class Student(User):\n",
    "    def enroll(self):\n",
    "        print(\"Enroll\")\n",
    "    def rivew(self):\n",
    "        print(\"rivew\")\n",
    "stu=Student()\n",
    "stu.log_in()\n",
    "stu.register()\n",
    "stu.enroll()\n",
    "stu.rivew()"
   ]
  },
  {
   "cell_type": "code",
   "execution_count": null,
   "id": "383883d7",
   "metadata": {},
   "outputs": [],
   "source": [
    "#inside constoctor"
   ]
  },
  {
   "cell_type": "code",
   "execution_count": 6,
   "id": "fdf9ca6e",
   "metadata": {},
   "outputs": [
    {
     "data": {
      "text/plain": [
       "'bule'"
      ]
     },
     "execution_count": 6,
     "metadata": {},
     "output_type": "execute_result"
    }
   ],
   "source": [
    "class Phone:\n",
    "    def __init__(self,price,brand,camera):\n",
    "        self.price=price\n",
    "        self.brand=brand\n",
    "        self.camera=camera\n",
    "class SmartPhone(Phone):\n",
    "    pass\n",
    "s=Phone(2000,\"bule\",\"5px\")\n",
    "s.brand\n",
    "\n"
   ]
  },
  {
   "cell_type": "code",
   "execution_count": null,
   "id": "4eaacbb4",
   "metadata": {},
   "outputs": [],
   "source": [
    "#chiuld class privte value excess korte pare  nah __ dara private bujai python"
   ]
  },
  {
   "cell_type": "code",
   "execution_count": 7,
   "id": "8cb9b08d",
   "metadata": {},
   "outputs": [
    {
     "ename": "AttributeError",
     "evalue": "'Phone' object has no attribute '__brand'",
     "output_type": "error",
     "traceback": [
      "\u001b[1;31m---------------------------------------------------------------------------\u001b[0m",
      "\u001b[1;31mAttributeError\u001b[0m                            Traceback (most recent call last)",
      "\u001b[1;32m~\\AppData\\Local\\Temp\\ipykernel_3640\\1663401552.py\u001b[0m in \u001b[0;36m<module>\u001b[1;34m\u001b[0m\n\u001b[0;32m      7\u001b[0m     \u001b[1;32mpass\u001b[0m\u001b[1;33m\u001b[0m\u001b[1;33m\u001b[0m\u001b[0m\n\u001b[0;32m      8\u001b[0m \u001b[0ms\u001b[0m\u001b[1;33m=\u001b[0m\u001b[0mPhone\u001b[0m\u001b[1;33m(\u001b[0m\u001b[1;36m2000\u001b[0m\u001b[1;33m,\u001b[0m\u001b[1;34m\"bule\"\u001b[0m\u001b[1;33m,\u001b[0m\u001b[1;34m\"5px\"\u001b[0m\u001b[1;33m)\u001b[0m\u001b[1;33m\u001b[0m\u001b[1;33m\u001b[0m\u001b[0m\n\u001b[1;32m----> 9\u001b[1;33m \u001b[0ms\u001b[0m\u001b[1;33m.\u001b[0m\u001b[0m__brand\u001b[0m\u001b[1;33m\u001b[0m\u001b[1;33m\u001b[0m\u001b[0m\n\u001b[0m",
      "\u001b[1;31mAttributeError\u001b[0m: 'Phone' object has no attribute '__brand'"
     ]
    }
   ],
   "source": [
    "class Phone:\n",
    "    def __init__(self,price,brand,camera):\n",
    "        self.price=price\n",
    "        self.__brand=brand\n",
    "        self.camera=camera\n",
    "class SmartPhone(Phone):\n",
    "    pass\n",
    "s=Phone(2000,\"bule\",\"5px\")\n",
    "s.__brand\n"
   ]
  },
  {
   "cell_type": "code",
   "execution_count": null,
   "id": "8162bbe1",
   "metadata": {},
   "outputs": [],
   "source": [
    "#method Overriding->Polymorphism"
   ]
  },
  {
   "cell_type": "code",
   "execution_count": 11,
   "id": "6007e087",
   "metadata": {},
   "outputs": [
    {
     "name": "stdout",
     "output_type": "stream",
     "text": [
      " a smart phone\n"
     ]
    }
   ],
   "source": [
    "class Phone:\n",
    "    def __init__(self,price,brand,camera):\n",
    "        self.price=price\n",
    "        self.brand=brand\n",
    "        self.camera=camera\n",
    "    def buy(self):\n",
    "        print(\" Phone\")\n",
    "        \n",
    "class SmartPhone(Phone):\n",
    "    \n",
    "    def buy(self):\n",
    "        print(\" a smart phone\")\n",
    "\n",
    "s=SmartPhone(1000,\"hufu\",12)\n",
    "s.buy()\n",
    "        \n",
    "        "
   ]
  },
  {
   "cell_type": "code",
   "execution_count": null,
   "id": "10f0be9f",
   "metadata": {},
   "outputs": [],
   "source": []
  }
 ],
 "metadata": {
  "kernelspec": {
   "display_name": "Python 3 (ipykernel)",
   "language": "python",
   "name": "python3"
  },
  "language_info": {
   "codemirror_mode": {
    "name": "ipython",
    "version": 3
   },
   "file_extension": ".py",
   "mimetype": "text/x-python",
   "name": "python",
   "nbconvert_exporter": "python",
   "pygments_lexer": "ipython3",
   "version": "3.9.13"
  }
 },
 "nbformat": 4,
 "nbformat_minor": 5
}
