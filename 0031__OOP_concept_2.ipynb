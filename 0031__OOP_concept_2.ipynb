{
 "cells": [
  {
   "cell_type": "code",
   "execution_count": 1,
   "id": "fde15066",
   "metadata": {},
   "outputs": [
    {
     "name": "stdout",
     "output_type": "stream",
     "text": [
      "Firsr your choice\n",
      "                     1.Enter 1 press pin number\n",
      "                     2.Enter 2 press Deposit\n",
      "                     3.Enter 3 press withdraw\n",
      "                     4.Enter 4 press balance\n",
      "                     5.Exit\n",
      "                     \n",
      "        1\n",
      "Enter the pin1234\n",
      "pin set successfully\n"
     ]
    }
   ],
   "source": [
    "class Atm:\n",
    "    def __init__(self):\n",
    "        self.pin=\"\"\n",
    "        self.balance = 0\n",
    "        self.menu()\n",
    "    def menu(self):\n",
    "        user_input = input(\"\"\"Firsr your choice\n",
    "                     1.Enter 1 press pin number\n",
    "                     2.Enter 2 press Deposit\n",
    "                     3.Enter 3 press withdraw\n",
    "                     4.Enter 4 press balance\n",
    "                     5.Exit\n",
    "                     \n",
    "        \"\"\")\n",
    "        if user_input =='1':\n",
    "            self.create_pin()\n",
    "        elif user_input =='2':\n",
    "            self.deposit()\n",
    "        elif user_input =='3':\n",
    "            self.with_draw()\n",
    "        elif user_input =='4':\n",
    "            self.check_balance()\n",
    "        else:\n",
    "            print(\"exit\")\n",
    "            \n",
    "    def create_pin(self):\n",
    "        self.pin=input(\"Enter the pin\")\n",
    "        print(\"pin set successfully\")\n",
    "        \n",
    "    def deposit(self):\n",
    "        temp =input(\"enter pin\")\n",
    "        if temp==self.pin:\n",
    "            amount= int(input(\"enter the amount\"))\n",
    "            self.balance = self.balance+amount\n",
    "            print(\"Deposit successfully\")\n",
    "        else:\n",
    "            print(\"Invalid Pin\")\n",
    "    def with_draw(self):\n",
    "        temp =input(\"enter pin\")\n",
    "        if temp== self.pin:\n",
    "            amount= int(input(\"enter the amount\"))\n",
    "            if amount<=self.balance:\n",
    "                self.balance = self.balance-amount\n",
    "                print(\"Withdraw sucessfully\")\n",
    "            else:\n",
    "                print(\"Insufficient balance\")\n",
    "        else: \n",
    "            print(\"Invalid pin\")\n",
    "            \n",
    "            \n",
    "           \n",
    "            \n",
    "    def check_balance(self):\n",
    "        temp =input(\"enter pin\")\n",
    "        if temp== self.pin:\n",
    "            print(self.balance)\n",
    "        else:\n",
    "            print(\"Invalid Pin\")\n",
    "    \n",
    "        \n",
    "    \n",
    "atm=Atm()"
   ]
  },
  {
   "cell_type": "code",
   "execution_count": 2,
   "id": "6efcf915",
   "metadata": {},
   "outputs": [
    {
     "name": "stdout",
     "output_type": "stream",
     "text": [
      "enter pin1234\n",
      "enter the amount50000\n",
      "Deposit successfully\n"
     ]
    }
   ],
   "source": [
    "atm.deposit()"
   ]
  },
  {
   "cell_type": "markdown",
   "id": "9a63d4b9",
   "metadata": {},
   "source": [
    "atm.check_balance()"
   ]
  },
  {
   "cell_type": "code",
   "execution_count": 3,
   "id": "04bbd1cd",
   "metadata": {},
   "outputs": [
    {
     "name": "stdout",
     "output_type": "stream",
     "text": [
      "enter pin1234\n",
      "50000\n"
     ]
    }
   ],
   "source": [
    "atm.check_balance()"
   ]
  },
  {
   "cell_type": "code",
   "execution_count": null,
   "id": "623c6faf",
   "metadata": {},
   "outputs": [],
   "source": [
    "# Cell 1: ক্লাস ডিফাইনেশন chatgtp\n",
    "\n",
    "class Atm:\n",
    "    def __init__(self):\n",
    "        self.pin = \"\"\n",
    "        self.balance = 0\n",
    "\n",
    "    def menu(self):\n",
    "        while True:\n",
    "            choice = input(\"\"\"\\nFirst, your choice:\n",
    "1. Set PIN\n",
    "2. Deposit\n",
    "3. Withdraw\n",
    "4. Check Balance\n",
    "5. Exit\n",
    "\n",
    "Your choice: \"\"\")\n",
    "            if choice == '1':\n",
    "                self.create_pin()\n",
    "            elif choice == '2':\n",
    "                self.deposit()\n",
    "            elif choice == '3':\n",
    "                self.with_draw()\n",
    "            elif choice == '4':\n",
    "                self.check_balance()\n",
    "            elif choice == '5':\n",
    "                print(\"Goodbye!\")\n",
    "                break\n",
    "            else:\n",
    "                print(\"Invalid input. Try again.\")\n",
    "\n",
    "    def create_pin(self):\n",
    "        self.pin = input(\"Enter a new PIN: \")\n",
    "        print(\"PIN set successfully.\")\n",
    "\n",
    "    def deposit(self):\n",
    "        temp = input(\"Enter PIN: \")\n",
    "        if temp == self.pin:\n",
    "            amount = int(input(\"Enter amount to deposit: \"))\n",
    "            self.balance += amount\n",
    "            print(\"Deposit successful.\")\n",
    "        else:\n",
    "            print(\"Invalid PIN.\")\n",
    "\n",
    "    def with_draw(self):\n",
    "        temp = input(\"Enter PIN: \")\n",
    "        if temp == self.pin:\n",
    "            amount = int(input(\"Enter amount to withdraw: \"))\n",
    "            if amount <= self.balance:\n",
    "                self.balance -= amount\n",
    "                print(\"Withdrawal successful.\")\n",
    "            else:\n",
    "                print(\"Insufficient balance.\")\n",
    "        else:\n",
    "            print(\"Invalid PIN.\")\n",
    "\n",
    "    def check_balance(self):\n",
    "        temp = input(\"Enter PIN: \")\n",
    "        if temp == self.pin:\n",
    "            print(\"Your balance is:\", self.balance)\n",
    "        else:\n",
    "            print(\"Invalid PIN.\")\n",
    "atm=Atm()"
   ]
  }
 ],
 "metadata": {
  "kernelspec": {
   "display_name": "Python 3 (ipykernel)",
   "language": "python",
   "name": "python3"
  },
  "language_info": {
   "codemirror_mode": {
    "name": "ipython",
    "version": 3
   },
   "file_extension": ".py",
   "mimetype": "text/x-python",
   "name": "python",
   "nbconvert_exporter": "python",
   "pygments_lexer": "ipython3",
   "version": "3.9.13"
  }
 },
 "nbformat": 4,
 "nbformat_minor": 5
}
