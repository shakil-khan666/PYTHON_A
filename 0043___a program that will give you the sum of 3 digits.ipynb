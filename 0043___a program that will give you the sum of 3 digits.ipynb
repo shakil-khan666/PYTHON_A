{
 "cells": [
  {
   "cell_type": "code",
   "execution_count": null,
   "id": "18c5f5fc",
   "metadata": {},
   "outputs": [],
   "source": [
    "number = int(input(\"enter the number = \"))\n",
    "sum_r = 0\n",
    "num_1 = number\n",
    "while num_1!=0:\n",
    "    r=num_1%10\n",
    "    sum_r=sum_r+r\n",
    "    num_1=num_1//10\n",
    "print(\"sum of digit = \",sum_r)"
   ]
  },
  {
   "cell_type": "code",
   "execution_count": null,
   "id": "5d1c3419",
   "metadata": {},
   "outputs": [],
   "source": []
  }
 ],
 "metadata": {
  "kernelspec": {
   "display_name": "Python 3 (ipykernel)",
   "language": "python",
   "name": "python3"
  },
  "language_info": {
   "codemirror_mode": {
    "name": "ipython",
    "version": 3
   },
   "file_extension": ".py",
   "mimetype": "text/x-python",
   "name": "python",
   "nbconvert_exporter": "python",
   "pygments_lexer": "ipython3",
   "version": "3.9.13"
  }
 },
 "nbformat": 4,
 "nbformat_minor": 5
}
