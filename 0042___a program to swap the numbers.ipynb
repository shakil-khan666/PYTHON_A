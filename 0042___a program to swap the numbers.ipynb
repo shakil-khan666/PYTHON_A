{
 "cells": [
  {
   "cell_type": "code",
   "execution_count": 4,
   "id": "c508ed92",
   "metadata": {},
   "outputs": [
    {
     "name": "stdout",
     "output_type": "stream",
     "text": [
      "enter number_1 : 10\n",
      "enter number_1 : 20\n",
      "Before Swap number\n",
      "number_1 10\n",
      "number_2 20\n",
      "After Swap Number\n",
      "Number_1 =  20\n",
      "Number_2 =  10\n"
     ]
    }
   ],
   "source": [
    "number_1 = int(input(\"enter number_1 : \"))\n",
    "number_2 = int(input(\"enter number_1 : \"))\n",
    "print(\"Before Swap number\")\n",
    "print(\"number_1\",number_1)\n",
    "print(\"number_2\",number_2)\n",
    "temporary = number_1\n",
    "number_1 = number_2\n",
    "number_2 = temporary\n",
    "print(\"After Swap Number\")\n",
    "\n",
    "print(\"Number_1 = \",number_1)\n",
    "print(\"Number_2 = \",number_2)\n",
    "\n",
    "\n"
   ]
  },
  {
   "cell_type": "code",
   "execution_count": null,
   "id": "bb06083d",
   "metadata": {},
   "outputs": [],
   "source": []
  }
 ],
 "metadata": {
  "kernelspec": {
   "display_name": "Python 3 (ipykernel)",
   "language": "python",
   "name": "python3"
  },
  "language_info": {
   "codemirror_mode": {
    "name": "ipython",
    "version": 3
   },
   "file_extension": ".py",
   "mimetype": "text/x-python",
   "name": "python",
   "nbconvert_exporter": "python",
   "pygments_lexer": "ipython3",
   "version": "3.9.13"
  }
 },
 "nbformat": 4,
 "nbformat_minor": 5
}
