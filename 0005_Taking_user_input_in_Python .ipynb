{
 "cells": [
  {
   "cell_type": "code",
   "execution_count": 8,
   "id": "5fcb46f3",
   "metadata": {},
   "outputs": [
    {
     "name": "stdout",
     "output_type": "stream",
     "text": [
      "tomar name ki :shakil\n"
     ]
    },
    {
     "data": {
      "text/plain": [
       "'shakil'"
      ]
     },
     "execution_count": 8,
     "metadata": {},
     "output_type": "execute_result"
    }
   ],
   "source": [
    "input(\"tomar name ki :\")"
   ]
  },
  {
   "cell_type": "code",
   "execution_count": 15,
   "id": "6b490883",
   "metadata": {},
   "outputs": [
    {
     "name": "stdout",
     "output_type": "stream",
     "text": [
      "70\n",
      "80\n"
     ]
    }
   ],
   "source": [
    "fist_number = input()\n",
    "second_number = input()"
   ]
  },
  {
   "cell_type": "code",
   "execution_count": 16,
   "id": "564dff5b",
   "metadata": {},
   "outputs": [
    {
     "name": "stdout",
     "output_type": "stream",
     "text": [
      "70\n",
      "80\n"
     ]
    }
   ],
   "source": [
    "print(fist_number)\n",
    "print(second_number)\n"
   ]
  },
  {
   "cell_type": "code",
   "execution_count": 18,
   "id": "5c508577",
   "metadata": {},
   "outputs": [
    {
     "name": "stdout",
     "output_type": "stream",
     "text": [
      "150\n"
     ]
    }
   ],
   "source": [
    "sum=int(fist_number)+int(second_number)\n",
    "print(sum)"
   ]
  },
  {
   "cell_type": "code",
   "execution_count": null,
   "id": "0b75787f",
   "metadata": {},
   "outputs": [],
   "source": []
  },
  {
   "cell_type": "code",
   "execution_count": null,
   "id": "4f56f32c",
   "metadata": {},
   "outputs": [],
   "source": []
  }
 ],
 "metadata": {
  "kernelspec": {
   "display_name": "Python 3 (ipykernel)",
   "language": "python",
   "name": "python3"
  },
  "language_info": {
   "codemirror_mode": {
    "name": "ipython",
    "version": 3
   },
   "file_extension": ".py",
   "mimetype": "text/x-python",
   "name": "python",
   "nbconvert_exporter": "python",
   "pygments_lexer": "ipython3",
   "version": "3.9.13"
  }
 },
 "nbformat": 4,
 "nbformat_minor": 5
}
