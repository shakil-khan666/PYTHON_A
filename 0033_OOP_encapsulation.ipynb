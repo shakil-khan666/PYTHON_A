{
 "cells": [
  {
   "cell_type": "code",
   "execution_count": null,
   "id": "60000b35",
   "metadata": {},
   "outputs": [],
   "source": [
    "class Atm:\n",
    "    def __init__(self):\n",
    "        self.__pin=\"\"#private\n",
    "        self.__balance=0\n",
    "        self.menu()\n",
    "    def menu(self):\n",
    "        user_input=input(\"\"\"Enter the choince number\n",
    "        1.Enter Press 1 create pin\n",
    "        2.Enter press 2 deposit\n",
    "        3.Enter press 3 withdraw\n",
    "        4.Enter press 4 check balance\n",
    "        5.Enter press 5  Exit\n",
    "        \n",
    "        \"\"\")\n",
    "        if user_input=='1':\n",
    "            self.create_pin()\n",
    "        elif user_input=='2':\n",
    "            self.Deposit()\n",
    "        elif user_input=='3':\n",
    "            self.With_draw()\n",
    "        elif user_input=='4':\n",
    "            self.check_Balance()\n",
    "        else:\n",
    "            print(\"exit\")\n",
    "    def create_pin(self):\n",
    "        self.__pin = input(\"enter the pin\")\n",
    "        print(\"pin sucessfully\")\n",
    "        \n",
    "    def Deposit(self):\n",
    "        temp=input(\"enter the pin\")\n",
    "        if temp==self.__pin:\n",
    "            blance=int(input(\"money\"))\n",
    "            self.__balance=self.__balance+blance\n",
    "            print(self.__balance)\n",
    "            \n",
    "    def With_draw(self):\n",
    "        temp=input(\"enter the pin\")\n",
    "        if temp==self.__pin:\n",
    "            amount=int(input(\"Amount please : \"))\n",
    "            if amount<=s.__balance:\n",
    "                self.__balance=self.__balance-amount\n",
    "                print(\"with_Draw sucessfully\")\n",
    "            else:\n",
    "                print(\"Insuffisiant balance\")\n",
    "        else:\n",
    "            print(\"Invalid Pin\")\n",
    "    def Check_Blance(self):\n",
    "        temp=input(\"enter the pin\")\n",
    "        if temp==self.pin:\n",
    "            print(\"check blance\",self.__balance)\n",
    "\n",
    "atm=Atm()\n",
    "    "
   ]
  },
  {
   "cell_type": "code",
   "execution_count": null,
   "id": "26f4bca8",
   "metadata": {},
   "outputs": [],
   "source": []
  }
 ],
 "metadata": {
  "kernelspec": {
   "display_name": "Python 3 (ipykernel)",
   "language": "python",
   "name": "python3"
  },
  "language_info": {
   "codemirror_mode": {
    "name": "ipython",
    "version": 3
   },
   "file_extension": ".py",
   "mimetype": "text/x-python",
   "name": "python",
   "nbconvert_exporter": "python",
   "pygments_lexer": "ipython3",
   "version": "3.9.13"
  }
 },
 "nbformat": 4,
 "nbformat_minor": 5
}
