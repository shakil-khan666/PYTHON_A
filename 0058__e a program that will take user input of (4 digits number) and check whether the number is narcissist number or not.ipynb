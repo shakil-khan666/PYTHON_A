{
 "cells": [
  {
   "cell_type": "code",
   "execution_count": 1,
   "id": "d6803a37",
   "metadata": {},
   "outputs": [],
   "source": [
    "import math\n",
    "\n",
    "def Narcissist_number(number:int)->bool:\n",
    "    given_number = number\n",
    "    sum = 0\n",
    "    while number>0:\n",
    "        last_number = int(math.fmod(number,10))**4\n",
    "        sum = sum+last_number\n",
    "        number = number//10\n",
    "    return given_number == sum\n",
    "\n",
    "    if __name__==\"__main__\":\n",
    "        print(Narcissist_number(1634))"
   ]
  },
  {
   "cell_type": "code",
   "execution_count": null,
   "id": "87814689",
   "metadata": {},
   "outputs": [],
   "source": []
  }
 ],
 "metadata": {
  "kernelspec": {
   "display_name": "Python 3 (ipykernel)",
   "language": "python",
   "name": "python3"
  },
  "language_info": {
   "codemirror_mode": {
    "name": "ipython",
    "version": 3
   },
   "file_extension": ".py",
   "mimetype": "text/x-python",
   "name": "python",
   "nbconvert_exporter": "python",
   "pygments_lexer": "ipython3",
   "version": "3.9.13"
  }
 },
 "nbformat": 4,
 "nbformat_minor": 5
}
