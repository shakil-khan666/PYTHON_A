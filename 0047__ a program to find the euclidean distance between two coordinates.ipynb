{
 "cells": [
  {
   "cell_type": "code",
   "execution_count": 1,
   "id": "319360bd",
   "metadata": {},
   "outputs": [],
   "source": [
    "#root(x1-x2)**2+(y1-y2)**2"
   ]
  },
  {
   "cell_type": "code",
   "execution_count": 2,
   "id": "b5ba6dcd",
   "metadata": {},
   "outputs": [
    {
     "name": "stdout",
     "output_type": "stream",
     "text": [
      "enter the value x1 = 4\n",
      "enter the value x1 = 0\n",
      "enter the value y1 = 0\n",
      "enter the value y2 = 4\n",
      "Dsiatance 5.656854249492381\n"
     ]
    }
   ],
   "source": [
    "import math\n",
    "x1 = int(input(\"enter the value x1 = \"))\n",
    "x2 = int(input(\"enter the value x1 = \"))\n",
    "y1 = int(input(\"enter the value y1 = \"))\n",
    "y2 = int(input(\"enter the value y2 = \"))\n",
    "\n",
    "distance = math.sqrt((x1-x2)**2+(y1-y2)**2)\n",
    "print(\"Dsiatance\",distance)\n"
   ]
  },
  {
   "cell_type": "code",
   "execution_count": null,
   "id": "54fc4c7f",
   "metadata": {},
   "outputs": [],
   "source": []
  }
 ],
 "metadata": {
  "kernelspec": {
   "display_name": "Python 3 (ipykernel)",
   "language": "python",
   "name": "python3"
  },
  "language_info": {
   "codemirror_mode": {
    "name": "ipython",
    "version": 3
   },
   "file_extension": ".py",
   "mimetype": "text/x-python",
   "name": "python",
   "nbconvert_exporter": "python",
   "pygments_lexer": "ipython3",
   "version": "3.9.13"
  }
 },
 "nbformat": 4,
 "nbformat_minor": 5
}
