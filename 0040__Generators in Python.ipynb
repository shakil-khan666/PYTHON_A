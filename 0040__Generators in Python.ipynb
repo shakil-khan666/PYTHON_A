{
 "cells": [
  {
   "cell_type": "code",
   "execution_count": 6,
   "id": "39e08803",
   "metadata": {},
   "outputs": [],
   "source": [
    "#iterable "
   ]
  },
  {
   "cell_type": "code",
   "execution_count": 7,
   "id": "0c594345",
   "metadata": {},
   "outputs": [],
   "source": [
    "class amar_range:\n",
    "    def __init__(self,start,end):\n",
    "        self.start=start\n",
    "        self.end=end\n",
    "        \n",
    "    def __iter__(self):\n",
    "        amr_iterator(self)\n",
    "class amr_iterator:\n",
    "    def __init__(self,iterable_obj):\n",
    "        self.iterable=iterable_obj\n",
    "    def __init__(self):\n",
    "        return self\n",
    "    def __next__(self):\n",
    "        \n",
    "        if self.iterable.start>=self.iterable.end :\n",
    "            raise StopIteration\n",
    "        current=self.iterable.start\n",
    "        self.iterable.start+1\n",
    "        return current\n",
    "            "
   ]
  },
  {
   "cell_type": "code",
   "execution_count": 8,
   "id": "e6ffd897",
   "metadata": {},
   "outputs": [],
   "source": [
    "#genarators"
   ]
  },
  {
   "cell_type": "code",
   "execution_count": 10,
   "id": "8b59b0e2",
   "metadata": {},
   "outputs": [
    {
     "name": "stdout",
     "output_type": "stream",
     "text": [
      "first statement\n",
      "second \n",
      "third\n"
     ]
    }
   ],
   "source": [
    "def gen_demo():\n",
    "    yield \"first statement\"\n",
    "    yield \"second \"\n",
    "    yield \"third\"\n",
    "\n",
    "gen=gen_demo()\n",
    "print(next(gen))\n",
    "print(next(gen))\n",
    "print(next(gen))"
   ]
  },
  {
   "cell_type": "code",
   "execution_count": 11,
   "id": "079db67d",
   "metadata": {},
   "outputs": [
    {
     "name": "stdout",
     "output_type": "stream",
     "text": [
      "first statement\n",
      "second \n",
      "third\n"
     ]
    }
   ],
   "source": [
    "def gen_demo():\n",
    "    yield \"first statement\"\n",
    "    yield \"second \"\n",
    "    yield \"third\"\n",
    "\n",
    "gen=gen_demo()\n",
    "\n",
    "for i in gen:\n",
    "    print(i)"
   ]
  },
  {
   "cell_type": "code",
   "execution_count": 12,
   "id": "309060ef",
   "metadata": {},
   "outputs": [],
   "source": [
    "#Python Demo (yield and return different)"
   ]
  },
  {
   "cell_type": "code",
   "execution_count": 15,
   "id": "ddc9d2c2",
   "metadata": {},
   "outputs": [
    {
     "name": "stdout",
     "output_type": "stream",
     "text": [
      "1\n",
      "4\n",
      "9\n",
      "16\n",
      "25\n",
      "36\n",
      "49\n",
      "64\n",
      "81\n",
      "100\n"
     ]
    }
   ],
   "source": [
    "def squre(num):\n",
    "    for i in range(1,num+1):\n",
    "        yield i**2\n",
    "\n",
    "gen=squre(10)\n",
    "print(next(gen))\n",
    "print(next(gen))\n",
    "\n",
    "for i in gen:# ekta bepar keyal kore dekho yield 1,2,3,por abar 14 print nh kore serial print korce eitai retur ar yield modda partoko\n",
    "    print(i)\n",
    "    "
   ]
  },
  {
   "cell_type": "code",
   "execution_count": 16,
   "id": "5cb6d4f7",
   "metadata": {},
   "outputs": [
    {
     "name": "stdout",
     "output_type": "stream",
     "text": [
      "20\n",
      "21\n",
      "22\n",
      "23\n",
      "24\n",
      "25\n",
      "26\n",
      "27\n",
      "28\n",
      "29\n"
     ]
    }
   ],
   "source": [
    "def amr_range(start,end):\n",
    "    for i in range(start,end):\n",
    "        yield i\n",
    "for i in amr_range(20,30):\n",
    "    print(i)"
   ]
  },
  {
   "cell_type": "code",
   "execution_count": 17,
   "id": "d4c0cd08",
   "metadata": {},
   "outputs": [],
   "source": [
    "#genarator Expression"
   ]
  },
  {
   "cell_type": "code",
   "execution_count": 21,
   "id": "69d754ba",
   "metadata": {},
   "outputs": [
    {
     "data": {
      "text/plain": [
       "[1, 4, 9, 16, 25, 36, 49, 64, 81]"
      ]
     },
     "execution_count": 21,
     "metadata": {},
     "output_type": "execute_result"
    }
   ],
   "source": [
    "l=[i**2 for i in range(1,10)]\n",
    "l"
   ]
  },
  {
   "cell_type": "code",
   "execution_count": 22,
   "id": "75fb27c5",
   "metadata": {},
   "outputs": [
    {
     "name": "stdout",
     "output_type": "stream",
     "text": [
      "1\n",
      "4\n",
      "9\n",
      "16\n",
      "25\n",
      "36\n",
      "49\n",
      "64\n",
      "81\n"
     ]
    }
   ],
   "source": [
    "gen=(i**2 for i in range(1,10))\n",
    "for i in gen:\n",
    "    print(i)"
   ]
  },
  {
   "cell_type": "code",
   "execution_count": 23,
   "id": "4edd140b",
   "metadata": {},
   "outputs": [],
   "source": [
    "#changing genarators"
   ]
  },
  {
   "cell_type": "code",
   "execution_count": null,
   "id": "48d9d537",
   "metadata": {},
   "outputs": [],
   "source": []
  },
  {
   "cell_type": "code",
   "execution_count": 25,
   "id": "6b4b5208",
   "metadata": {},
   "outputs": [
    {
     "name": "stdout",
     "output_type": "stream",
     "text": [
      "4895\n"
     ]
    }
   ],
   "source": [
    "def fibonacci_numbers(nums):\n",
    "    x,y=0,1\n",
    "    for _ in range(nums):\n",
    "        \n",
    "        x,y=y,x+y\n",
    "        yield x\n",
    "def squre(nums):\n",
    "    for num in nums:\n",
    "        yield num**2\n",
    "print(sum(squre(fibonacci_numbers(10))))"
   ]
  },
  {
   "cell_type": "code",
   "execution_count": null,
   "id": "fb40fd50",
   "metadata": {},
   "outputs": [],
   "source": []
  }
 ],
 "metadata": {
  "kernelspec": {
   "display_name": "Python 3 (ipykernel)",
   "language": "python",
   "name": "python3"
  },
  "language_info": {
   "codemirror_mode": {
    "name": "ipython",
    "version": 3
   },
   "file_extension": ".py",
   "mimetype": "text/x-python",
   "name": "python",
   "nbconvert_exporter": "python",
   "pygments_lexer": "ipython3",
   "version": "3.9.13"
  }
 },
 "nbformat": 4,
 "nbformat_minor": 5
}
