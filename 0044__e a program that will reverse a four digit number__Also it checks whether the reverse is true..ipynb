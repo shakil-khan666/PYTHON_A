{
 "cells": [
  {
   "cell_type": "code",
   "execution_count": 1,
   "id": "be4c281d",
   "metadata": {},
   "outputs": [
    {
     "name": "stdout",
     "output_type": "stream",
     "text": [
      "Ener the number = 4321\n",
      "1234\n"
     ]
    }
   ],
   "source": [
    "number = int(input(\"Ener the number = \"))\n",
    "sum_r = 0\n",
    "num=number\n",
    "while num!=0:\n",
    "    r = num%10\n",
    "    sum_r = sum_r*10+r\n",
    "    num = num//10\n",
    "print(sum_r)"
   ]
  },
  {
   "cell_type": "code",
   "execution_count": null,
   "id": "1b731bb0",
   "metadata": {},
   "outputs": [],
   "source": []
  }
 ],
 "metadata": {
  "kernelspec": {
   "display_name": "Python 3 (ipykernel)",
   "language": "python",
   "name": "python3"
  },
  "language_info": {
   "codemirror_mode": {
    "name": "ipython",
    "version": 3
   },
   "file_extension": ".py",
   "mimetype": "text/x-python",
   "name": "python",
   "nbconvert_exporter": "python",
   "pygments_lexer": "ipython3",
   "version": "3.9.13"
  }
 },
 "nbformat": 4,
 "nbformat_minor": 5
}
