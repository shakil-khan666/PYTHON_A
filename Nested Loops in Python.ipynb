{
 "cells": [
  {
   "cell_type": "code",
   "execution_count": 1,
   "id": "36b623cd",
   "metadata": {},
   "outputs": [],
   "source": [
    "#*\n",
    "#**\n",
    "#***\n",
    "#****"
   ]
  },
  {
   "cell_type": "code",
   "execution_count": 3,
   "id": "27ab317a",
   "metadata": {},
   "outputs": [
    {
     "name": "stdout",
     "output_type": "stream",
     "text": [
      "enter the value row : 5\n",
      "* \n",
      "* * \n",
      "* * * \n",
      "* * * * \n",
      "* * * * * \n"
     ]
    }
   ],
   "source": [
    "row = int(input(\"enter the value row : \"))\n",
    "for i in range(1,row+1):\n",
    "    for j in range(0,i):\n",
    "        print(\"*\",end = \" \")\n",
    "    print(\"\")"
   ]
  },
  {
   "cell_type": "code",
   "execution_count": null,
   "id": "d7e81efa",
   "metadata": {},
   "outputs": [],
   "source": []
  }
 ],
 "metadata": {
  "kernelspec": {
   "display_name": "Python 3 (ipykernel)",
   "language": "python",
   "name": "python3"
  },
  "language_info": {
   "codemirror_mode": {
    "name": "ipython",
    "version": 3
   },
   "file_extension": ".py",
   "mimetype": "text/x-python",
   "name": "python",
   "nbconvert_exporter": "python",
   "pygments_lexer": "ipython3",
   "version": "3.9.13"
  }
 },
 "nbformat": 4,
 "nbformat_minor": 5
}
