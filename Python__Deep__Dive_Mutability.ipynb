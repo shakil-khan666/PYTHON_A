{
 "cells": [
  {
   "cell_type": "code",
   "execution_count": 2,
   "id": "146d0198",
   "metadata": {},
   "outputs": [],
   "source": [
    "a=4"
   ]
  },
  {
   "cell_type": "code",
   "execution_count": 3,
   "id": "e022cc97",
   "metadata": {},
   "outputs": [
    {
     "data": {
      "text/plain": [
       "2766836558224"
      ]
     },
     "execution_count": 3,
     "metadata": {},
     "output_type": "execute_result"
    }
   ],
   "source": [
    "id(a) #mamory location"
   ]
  },
  {
   "cell_type": "code",
   "execution_count": 4,
   "id": "d4f35d6f",
   "metadata": {},
   "outputs": [
    {
     "data": {
      "text/plain": [
       "'0x284344f6990'"
      ]
     },
     "execution_count": 4,
     "metadata": {},
     "output_type": "execute_result"
    }
   ],
   "source": [
    "hex(2766836558224)"
   ]
  },
  {
   "cell_type": "code",
   "execution_count": 5,
   "id": "77da1ae2",
   "metadata": {},
   "outputs": [
    {
     "data": {
      "text/plain": [
       "2766836558224"
      ]
     },
     "execution_count": 5,
     "metadata": {},
     "output_type": "execute_result"
    }
   ],
   "source": [
    "id(a)"
   ]
  },
  {
   "cell_type": "code",
   "execution_count": 6,
   "id": "4861a4fb",
   "metadata": {},
   "outputs": [],
   "source": [
    "#aliasing"
   ]
  },
  {
   "cell_type": "code",
   "execution_count": 7,
   "id": "ac8b3160",
   "metadata": {},
   "outputs": [],
   "source": [
    "a=5\n",
    "b=a\n"
   ]
  },
  {
   "cell_type": "code",
   "execution_count": 8,
   "id": "ae8afcde",
   "metadata": {},
   "outputs": [
    {
     "data": {
      "text/plain": [
       "2766836558256"
      ]
     },
     "execution_count": 8,
     "metadata": {},
     "output_type": "execute_result"
    }
   ],
   "source": [
    "id(a)"
   ]
  },
  {
   "cell_type": "code",
   "execution_count": 9,
   "id": "5cfa6e95",
   "metadata": {},
   "outputs": [
    {
     "data": {
      "text/plain": [
       "2766836558256"
      ]
     },
     "execution_count": 9,
     "metadata": {},
     "output_type": "execute_result"
    }
   ],
   "source": [
    "id(b)"
   ]
  },
  {
   "cell_type": "code",
   "execution_count": 10,
   "id": "b893541a",
   "metadata": {},
   "outputs": [],
   "source": [
    "del a"
   ]
  },
  {
   "cell_type": "code",
   "execution_count": 11,
   "id": "4f199e82",
   "metadata": {},
   "outputs": [
    {
     "ename": "NameError",
     "evalue": "name 'a' is not defined",
     "output_type": "error",
     "traceback": [
      "\u001b[1;31m---------------------------------------------------------------------------\u001b[0m",
      "\u001b[1;31mNameError\u001b[0m                                 Traceback (most recent call last)",
      "\u001b[1;32m~\\AppData\\Local\\Temp\\ipykernel_10144\\1189138062.py\u001b[0m in \u001b[0;36m<module>\u001b[1;34m\u001b[0m\n\u001b[1;32m----> 1\u001b[1;33m \u001b[0mprint\u001b[0m\u001b[1;33m(\u001b[0m\u001b[0ma\u001b[0m\u001b[1;33m)\u001b[0m\u001b[1;33m\u001b[0m\u001b[1;33m\u001b[0m\u001b[0m\n\u001b[0m",
      "\u001b[1;31mNameError\u001b[0m: name 'a' is not defined"
     ]
    }
   ],
   "source": [
    "print(a)"
   ]
  },
  {
   "cell_type": "code",
   "execution_count": 12,
   "id": "7ea0179a",
   "metadata": {},
   "outputs": [
    {
     "name": "stdout",
     "output_type": "stream",
     "text": [
      "5\n"
     ]
    }
   ],
   "source": [
    "print(b)"
   ]
  },
  {
   "cell_type": "code",
   "execution_count": 13,
   "id": "882be24e",
   "metadata": {},
   "outputs": [
    {
     "data": {
      "text/plain": [
       "5"
      ]
     },
     "execution_count": 13,
     "metadata": {},
     "output_type": "execute_result"
    }
   ],
   "source": [
    "import sys\n",
    "a=\"corona\"\n",
    "b=a\n",
    "c=b\n",
    "id(a)\n",
    "id(b)\n",
    "id(c)\n",
    "sys.getrefcount(a)"
   ]
  },
  {
   "cell_type": "code",
   "execution_count": 15,
   "id": "29492b72",
   "metadata": {},
   "outputs": [
    {
     "data": {
      "text/plain": [
       "5"
      ]
     },
     "execution_count": 15,
     "metadata": {},
     "output_type": "execute_result"
    }
   ],
   "source": [
    "import sys\n",
    "a=\"ererhdndjfjs\"\n",
    "b=a\n",
    "c=b\n",
    "id(a)\n",
    "id(b)\n",
    "id(c)\n",
    "sys.getrefcount(a)"
   ]
  },
  {
   "cell_type": "code",
   "execution_count": 16,
   "id": "aab33164",
   "metadata": {},
   "outputs": [],
   "source": [
    "#garbage_colection''''''''''''''intermidtaer memory ja delet korle refarence delet hbe kintu mamory te theke jabe"
   ]
  },
  {
   "cell_type": "code",
   "execution_count": 17,
   "id": "3166f620",
   "metadata": {},
   "outputs": [],
   "source": [
    "#weird stuff....369 extra variabele add hbe "
   ]
  },
  {
   "cell_type": "code",
   "execution_count": 25,
   "id": "1940800b",
   "metadata": {},
   "outputs": [
    {
     "data": {
      "text/plain": [
       "1711"
      ]
     },
     "execution_count": 25,
     "metadata": {},
     "output_type": "execute_result"
    }
   ],
   "source": [
    "import sys\n",
    "a=2\n",
    "\n",
    "sys.getrefcount(a)"
   ]
  },
  {
   "cell_type": "code",
   "execution_count": 26,
   "id": "99d0c044",
   "metadata": {},
   "outputs": [
    {
     "data": {
      "text/plain": [
       "3"
      ]
     },
     "execution_count": 26,
     "metadata": {},
     "output_type": "execute_result"
    }
   ],
   "source": [
    "import sys\n",
    "a=777\n",
    "\n",
    "sys.getrefcount(a)"
   ]
  },
  {
   "cell_type": "code",
   "execution_count": 27,
   "id": "6ae16901",
   "metadata": {},
   "outputs": [
    {
     "data": {
      "text/plain": [
       "2766953778832"
      ]
     },
     "execution_count": 27,
     "metadata": {},
     "output_type": "execute_result"
    }
   ],
   "source": [
    "a=257\n",
    "b=257\n",
    "id(a)\n"
   ]
  },
  {
   "cell_type": "code",
   "execution_count": 28,
   "id": "65a0127e",
   "metadata": {},
   "outputs": [
    {
     "data": {
      "text/plain": [
       "2766953778832"
      ]
     },
     "execution_count": 28,
     "metadata": {},
     "output_type": "execute_result"
    }
   ],
   "source": [
    "id(b)"
   ]
  },
  {
   "cell_type": "code",
   "execution_count": 29,
   "id": "868c729f",
   "metadata": {},
   "outputs": [
    {
     "data": {
      "text/plain": [
       "2766953778224"
      ]
     },
     "execution_count": 29,
     "metadata": {},
     "output_type": "execute_result"
    }
   ],
   "source": [
    "a=-6\n",
    "b=-6\n",
    "id(a)"
   ]
  },
  {
   "cell_type": "code",
   "execution_count": 30,
   "id": "aef021b2",
   "metadata": {},
   "outputs": [
    {
     "data": {
      "text/plain": [
       "2766953778864"
      ]
     },
     "execution_count": 30,
     "metadata": {},
     "output_type": "execute_result"
    }
   ],
   "source": [
    "id(b)"
   ]
  },
  {
   "cell_type": "code",
   "execution_count": 1,
   "id": "08a011fa",
   "metadata": {},
   "outputs": [],
   "source": [
    "#cloning"
   ]
  },
  {
   "cell_type": "code",
   "execution_count": 2,
   "id": "ffc60cb1",
   "metadata": {},
   "outputs": [
    {
     "data": {
      "text/plain": [
       "1233850026368"
      ]
     },
     "execution_count": 2,
     "metadata": {},
     "output_type": "execute_result"
    }
   ],
   "source": [
    "a=[1,2,3,4]\n",
    "id(a)"
   ]
  },
  {
   "cell_type": "code",
   "execution_count": 3,
   "id": "42715b6d",
   "metadata": {},
   "outputs": [],
   "source": [
    "a.append(5)"
   ]
  },
  {
   "cell_type": "code",
   "execution_count": 4,
   "id": "cc759c22",
   "metadata": {},
   "outputs": [
    {
     "name": "stdout",
     "output_type": "stream",
     "text": [
      "[1, 2, 3, 4, 5]\n"
     ]
    }
   ],
   "source": [
    "print(a)"
   ]
  },
  {
   "cell_type": "code",
   "execution_count": 5,
   "id": "105746d2",
   "metadata": {},
   "outputs": [
    {
     "data": {
      "text/plain": [
       "1233850026368"
      ]
     },
     "execution_count": 5,
     "metadata": {},
     "output_type": "execute_result"
    }
   ],
   "source": [
    "id(a)"
   ]
  },
  {
   "cell_type": "code",
   "execution_count": 6,
   "id": "335ddc71",
   "metadata": {},
   "outputs": [
    {
     "name": "stdout",
     "output_type": "stream",
     "text": [
      "[1, 2, 3, 4, 5, 6]\n"
     ]
    },
    {
     "data": {
      "text/plain": [
       "1233849141056"
      ]
     },
     "execution_count": 6,
     "metadata": {},
     "output_type": "execute_result"
    }
   ],
   "source": [
    "b=a[:]\n",
    "b.append(6)\n",
    "print(b)\n",
    "id(b)"
   ]
  },
  {
   "cell_type": "code",
   "execution_count": null,
   "id": "e1a5d1fa",
   "metadata": {},
   "outputs": [],
   "source": []
  }
 ],
 "metadata": {
  "kernelspec": {
   "display_name": "Python 3 (ipykernel)",
   "language": "python",
   "name": "python3"
  },
  "language_info": {
   "codemirror_mode": {
    "name": "ipython",
    "version": 3
   },
   "file_extension": ".py",
   "mimetype": "text/x-python",
   "name": "python",
   "nbconvert_exporter": "python",
   "pygments_lexer": "ipython3",
   "version": "3.9.13"
  }
 },
 "nbformat": 4,
 "nbformat_minor": 5
}
