{
 "cells": [
  {
   "cell_type": "code",
   "execution_count": null,
   "id": "2fdd79a3",
   "metadata": {},
   "outputs": [],
   "source": [
    "def convert_to_titlecase(s):\n",
    "    sentence = s.title()\n",
    "    return sentence\n",
    "\n",
    "result = \"i am good boy\"\n",
    "print(convert_to_titlecase(result))\n"
   ]
  }
 ],
 "metadata": {
  "kernelspec": {
   "display_name": "Python 3 (ipykernel)",
   "language": "python",
   "name": "python3"
  },
  "language_info": {
   "codemirror_mode": {
    "name": "ipython",
    "version": 3
   },
   "file_extension": ".py",
   "mimetype": "text/x-python",
   "name": "python",
   "nbconvert_exporter": "python",
   "pygments_lexer": "ipython3",
   "version": "3.9.13"
  }
 },
 "nbformat": 4,
 "nbformat_minor": 5
}
