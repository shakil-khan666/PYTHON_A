{
 "cells": [
  {
   "cell_type": "code",
   "execution_count": 8,
   "id": "f5585ece",
   "metadata": {},
   "outputs": [
    {
     "name": "stdout",
     "output_type": "stream",
     "text": [
      "hello how would like be proseed\n",
      "                           1.enter 1 the pin     :\n",
      "                           2.enter 2 deposit     :\n",
      "                           3.enter 3 withdraw    :\n",
      "                           4.enter 4 checkblance :\n",
      "                           5.enter 5 exit        :\n",
      "2\n",
      " deposit\n"
     ]
    }
   ],
   "source": [
    "class Atm:\n",
    "    def __init__(self):\n",
    "        self.pin=\" \"\n",
    "        self.blance=0\n",
    "        self.menu()\n",
    "    def menu(self):\n",
    "        user_input = input(\"\"\"hello how would like be proseed\n",
    "                           1.enter 1 the pin     :\n",
    "                           2.enter 2 deposit     :\n",
    "                           3.enter 3 withdraw    :\n",
    "                           4.enter 4 checkblance :\n",
    "                           5.enter 5 exit        :\n",
    "\"\"\")\n",
    "        if user_input=='1':\n",
    "            print(\" create pin = \")\n",
    "        elif user_input=='2':\n",
    "            print(\" deposit\")\n",
    "        elif user_input=='3':\n",
    "            print(\" withdraw\")\n",
    "        elif user_input=='4':\n",
    "            print(\" check blance\")\n",
    "        else:\n",
    "            print(\"exit\")\n",
    "atm1=Atm()\n",
    "                           \n",
    "        \n",
    "                                                                                                           \n",
    "                        \n",
    "                    \n",
    "                           \n",
    "    "
   ]
  },
  {
   "cell_type": "markdown",
   "id": "1774d014",
   "metadata": {},
   "source": [
    "# again"
   ]
  },
  {
   "cell_type": "code",
   "execution_count": 9,
   "id": "0a00e86c",
   "metadata": {},
   "outputs": [
    {
     "name": "stdout",
     "output_type": "stream",
     "text": [
      "Hello how would like to possed :\n",
      "                   1. Enter 1 press pin number   : \n",
      "                   2.Enter 2 prsee deposit       : \n",
      "                   3.Enter 3 press chacek Blance : \n",
      "                   4.Enter 4 withdraw : \n",
      "                   5.Enter 5 exit\n",
      "1\n",
      "Create Pin\n"
     ]
    }
   ],
   "source": [
    "class ATM:\n",
    "    def __init__(self):\n",
    "        self.pin=\" \"\n",
    "        self.blance=0\n",
    "        self.menu()\n",
    "    def menu(self):\n",
    "        user_input=input(\"\"\"Hello how would like to possed :\n",
    "                   1. Enter 1 press pin number   : \n",
    "                   2.Enter 2 prsee deposit       : \n",
    "                   3.Enter 3 press chacek Blance : \n",
    "                   4.Enter 4 withdraw : \n",
    "                   5.Enter 5 exit\n",
    "\"\"\")\n",
    "        if user_input =='1':\n",
    "            print(\"Create Pin\")\n",
    "        elif user_input =='2':\n",
    "            print(\"Deposit\")\n",
    "        elif user_input =='3':\n",
    "            print(\"check blance\")\n",
    "        elif user_input =='4':\n",
    "            print(\"withdraw\")\n",
    "        else:\n",
    "            print(\"exit\")\n",
    "\n",
    "atm2=ATM()\n",
    "        "
   ]
  },
  {
   "cell_type": "code",
   "execution_count": null,
   "id": "77f9b1ed",
   "metadata": {},
   "outputs": [],
   "source": []
  }
 ],
 "metadata": {
  "kernelspec": {
   "display_name": "Python 3 (ipykernel)",
   "language": "python",
   "name": "python3"
  },
  "language_info": {
   "codemirror_mode": {
    "name": "ipython",
    "version": 3
   },
   "file_extension": ".py",
   "mimetype": "text/x-python",
   "name": "python",
   "nbconvert_exporter": "python",
   "pygments_lexer": "ipython3",
   "version": "3.9.13"
  }
 },
 "nbformat": 4,
 "nbformat_minor": 5
}
