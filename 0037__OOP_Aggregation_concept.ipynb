{
 "cells": [
  {
   "cell_type": "code",
   "execution_count": 9,
   "id": "21ba97b7",
   "metadata": {},
   "outputs": [
    {
     "name": "stdout",
     "output_type": "stream",
     "text": [
      "1236\n"
     ]
    }
   ],
   "source": [
    "class Customer:\n",
    "    def __init__(self,name,age,gender,address):\n",
    "        self.name=name\n",
    "        self.age=age\n",
    "        self.gender=gender\n",
    "        self.address=address\n",
    "\n",
    "class Address:\n",
    "    def __init__(self,city,pincode,state):\n",
    "        self.city=city\n",
    "        self.pincode=pincode\n",
    "        self.state=state\n",
    "add= Address(\"Donia\",1236,\"dh\")\n",
    "cust=Customer(\"shakil\",24,\"male\",add)\n",
    "\n",
    "print(cust.address.pincode)\n",
    "    \n",
    "   "
   ]
  },
  {
   "cell_type": "code",
   "execution_count": 10,
   "id": "aa7ea4f7",
   "metadata": {},
   "outputs": [],
   "source": [
    "#again partic"
   ]
  },
  {
   "cell_type": "code",
   "execution_count": 17,
   "id": "4292909d",
   "metadata": {},
   "outputs": [
    {
     "name": "stdout",
     "output_type": "stream",
     "text": [
      "dhaka\n"
     ]
    }
   ],
   "source": [
    "class Customer:\n",
    "    def __init__(self,name,gender,address):\n",
    "        self.name=name\n",
    "        self.gender=gender\n",
    "        self.address=address\n",
    "        \n",
    "class Address:\n",
    "    def __init__(self,city,pincode):\n",
    "        self.pincode=pincode\n",
    "        self.city=city\n",
    "        \n",
    "add=Address(\"dhaka\",1236)\n",
    "cust=Customer(\"shakil\",\"male\",add)\n",
    "\n",
    "print(cust.address.city)\n",
    "        "
   ]
  },
  {
   "cell_type": "code",
   "execution_count": 18,
   "id": "096739a5",
   "metadata": {},
   "outputs": [],
   "source": [
    "#again"
   ]
  },
  {
   "cell_type": "code",
   "execution_count": 22,
   "id": "428641c5",
   "metadata": {},
   "outputs": [
    {
     "ename": "SyntaxError",
     "evalue": "non-default argument follows default argument (1941789765.py, line 7)",
     "output_type": "error",
     "traceback": [
      "\u001b[1;36m  File \u001b[1;32m\"C:\\Users\\HP\\AppData\\Local\\Temp\\ipykernel_2884\\1941789765.py\"\u001b[1;36m, line \u001b[1;32m7\u001b[0m\n\u001b[1;33m    def edit_profile(self,new_name=self.name,new_city,new_pincode=\"none\",new_state):\u001b[0m\n\u001b[1;37m                                                      ^\u001b[0m\n\u001b[1;31mSyntaxError\u001b[0m\u001b[1;31m:\u001b[0m non-default argument follows default argument\n"
     ]
    }
   ],
   "source": [
    "class Customer:\n",
    "    def __init__(self,name,age,address):\n",
    "        self.name=name\n",
    "        self.age=age\n",
    "        self.address=address\n",
    "        \n",
    "    def edit_profile(self,new_name=self.name,new_city,new_pincode,new_state):\n",
    "        self.name= new_name\n",
    "        self.address.change_address(new_city,new_pincode,new_state)\n",
    "\n",
    "class Address:\n",
    "    def __init__(self,city,pincode,state):\n",
    "        self.city=city\n",
    "        self.pincode=pincode\n",
    "        self.state=state\n",
    "    def change_address(self,new_address,new_pincode,new_state):\n",
    "        self.new_state = new_state\n",
    "        self.new_city = new_city\n",
    "        self.new_pincode=new_pincode\n",
    "        \n",
    "\n",
    "add= Address(\"Donia\",1236,\"dh\")\n",
    "cust=Customer(\"shakil\",24,add)\n",
    "cust.edit_profle(\"barisal\",3000)\n",
    "\n",
    "print(cust.address.pincode)\n",
    "    "
   ]
  },
  {
   "cell_type": "code",
   "execution_count": null,
   "id": "cb328749",
   "metadata": {},
   "outputs": [],
   "source": [
    "class Customer:\n",
    "    def __init__(self, name, age, address):\n",
    "        self.name = name\n",
    "        self.age = age\n",
    "        self.address = address\n",
    "\n",
    "    def edit_profile(self, new_name=None, new_city=None, new_pincode=None, new_state=None):\n",
    "        if new_name:\n",
    "            self.name = new_name\n",
    "        if new_city and new_pincode and new_state:\n",
    "            self.address.city = new_city\n",
    "            self.address.pincode = new_pincode\n",
    "            self.address.state = new_state\n",
    "\n",
    "\n",
    "class Address:\n",
    "    def __init__(self, city, pincode, state):\n",
    "        self.city = city\n",
    "        self.pincode = pincode\n",
    "        self.state = state\n",
    "\n",
    "    def change_address(self, new_city, new_pincode, new_state):\n",
    "        self.city = new_city\n",
    "        self.pincode = new_pincode\n",
    "        self.state = new_state\n",
    "\n",
    "\n",
    "# Object create\n",
    "add = Address(\"Donia\", 1236, \"dh\")\n",
    "cust = Customer(\"shakil\", 24, add)\n",
    "\n",
    "# Edit profile (correct method call)\n",
    "cust.edit_profile(new_name=\"Shakil Khan\", new_city=\"Barisal\", new_pincode=3000, new_state=\"BD\")\n",
    "\n",
    "print(cust.address.pincode)  # Output: 3000\n"
   ]
  }
 ],
 "metadata": {
  "kernelspec": {
   "display_name": "Python 3 (ipykernel)",
   "language": "python",
   "name": "python3"
  },
  "language_info": {
   "codemirror_mode": {
    "name": "ipython",
    "version": 3
   },
   "file_extension": ".py",
   "mimetype": "text/x-python",
   "name": "python",
   "nbconvert_exporter": "python",
   "pygments_lexer": "ipython3",
   "version": "3.9.13"
  }
 },
 "nbformat": 4,
 "nbformat_minor": 5
}
