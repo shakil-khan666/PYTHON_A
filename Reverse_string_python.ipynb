{
 "cells": [
  {
   "cell_type": "code",
   "execution_count": 1,
   "id": "c58b50d1",
   "metadata": {},
   "outputs": [
    {
     "name": "stdout",
     "output_type": "stream",
     "text": [
      "Enter a string: madam\n",
      "Reversed string: madam\n"
     ]
    }
   ],
   "source": [
    "s = input(\"Enter a string: \")\n",
    "reversed_s = s[::-1]\n",
    "print(\"Reversed string:\", reversed_s)"
   ]
  },
  {
   "cell_type": "code",
   "execution_count": null,
   "id": "dbca1650",
   "metadata": {},
   "outputs": [],
   "source": [
    "s = input(\"Enter a string: \")\n",
    "reversed_s = \"\"\n",
    "for char in s:\n",
    "    reversed_s = char + reversed_s\n",
    "print(\"Reversed string:\", reversed_s)\n"
   ]
  },
  {
   "cell_type": "code",
   "execution_count": null,
   "id": "108ad85d",
   "metadata": {},
   "outputs": [],
   "source": [
    "s = input(\"Enter a string: \")\n",
    "reversed_s = ''.join(reversed(s))\n",
    "print(\"Reversed string:\", reversed_s)\n"
   ]
  },
  {
   "cell_type": "code",
   "execution_count": null,
   "id": "26351795",
   "metadata": {},
   "outputs": [],
   "source": []
  }
 ],
 "metadata": {
  "kernelspec": {
   "display_name": "Python 3 (ipykernel)",
   "language": "python",
   "name": "python3"
  },
  "language_info": {
   "codemirror_mode": {
    "name": "ipython",
    "version": 3
   },
   "file_extension": ".py",
   "mimetype": "text/x-python",
   "name": "python",
   "nbconvert_exporter": "python",
   "pygments_lexer": "ipython3",
   "version": "3.9.13"
  }
 },
 "nbformat": 4,
 "nbformat_minor": 5
}
