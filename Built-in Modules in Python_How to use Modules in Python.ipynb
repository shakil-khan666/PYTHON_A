{
 "cells": [
  {
   "cell_type": "code",
   "execution_count": 1,
   "id": "53d56a32",
   "metadata": {},
   "outputs": [
    {
     "name": "stdout",
     "output_type": "stream",
     "text": [
      "\n",
      "Please wait a moment while I gather a list of all available modules...\n",
      "\n"
     ]
    },
    {
     "name": "stderr",
     "output_type": "stream",
     "text": [
      "C:\\Users\\HP\\anaconda3\\lib\\site-packages\\IPython\\kernel\\__init__.py:12: ShimWarning: The `IPython.kernel` package has been deprecated since IPython 4.0.You should import from ipykernel or jupyter_client instead.\n",
      "  warn(\"The `IPython.kernel` package has been deprecated since IPython 4.0.\"\n",
      "WARNING: AstropyDeprecationWarning: The private astropy._erfa module has been made into its own package, pyerfa, which is a dependency of astropy and can be imported directly using \"import erfa\" [astropy._erfa]\n",
      "C:\\Users\\HP\\anaconda3\\lib\\site-packages\\paramiko\\transport.py:219: CryptographyDeprecationWarning: Blowfish has been deprecated\n",
      "  \"class\": algorithms.Blowfish,\n",
      "C:\\Users\\HP\\anaconda3\\lib\\site-packages\\nltk\\twitter\\__init__.py:20: UserWarning: The twython library has not been installed. Some functionality from the twitter package will not be available.\n",
      "  warnings.warn(\n",
      "C:\\Users\\HP\\anaconda3\\lib\\site-packages\\_distutils_hack\\__init__.py:33: UserWarning: Setuptools is replacing distutils.\n",
      "  warnings.warn(\"Setuptools is replacing distutils.\")\n"
     ]
    },
    {
     "name": "stdout",
     "output_type": "stream",
     "text": [
      "pygame 2.1.2 (SDL 2.0.18, Python 3.9.13)\n",
      "Hello from the pygame community. https://www.pygame.org/contribute.html\n"
     ]
    },
    {
     "name": "stderr",
     "output_type": "stream",
     "text": [
      "No QCoreApplication instance found. Application patches not applied. You have to call load_stylesheet function after instantiation of QApplication to take effect. \n",
      "C:\\Users\\HP\\anaconda3\\lib\\pkgutil.py:108: VisibleDeprecationWarning:\n",
      "\n",
      "zmq.eventloop.minitornado is deprecated in pyzmq 14.0 and will be removed.\n",
      "    Install tornado itself to use zmq with the tornado IOLoop.\n",
      "    \n",
      "\n"
     ]
    },
    {
     "name": "stdout",
     "output_type": "stream",
     "text": [
      "Cython              concurrent          modulefinder        socketserver\n",
      "IPython             conda               mpmath              socks\n",
      "OpenSSL             conda_build         msgpack             sockshandler\n",
      "PIL                 conda_content_trust msilib              sortedcollections\n",
      "PyQt5               conda_env           msvcrt              sortedcontainers\n",
      "TBB                 conda_pack          multipledispatch    soupsieve\n",
      "__future__          conda_package_handling multiprocessing     sphinx\n",
      "_abc                conda_token         munkres             spyder\n",
      "_aix_support        conda_verify        mypy_extensions     spyder_kernels\n",
      "_argon2_cffi_bindings configparser        nacl                sqlalchemy\n",
      "_ast                constantly          navigator_updater   sqlite3\n",
      "_asyncio            contextlib          nbclassic           sre_compile\n",
      "_bisect             contextvars         nbclient            sre_constants\n",
      "_black_version      cookiecutter        nbconvert           sre_parse\n",
      "_blake2             copy                nbformat            ssl\n",
      "_bootlocale         copyreg             nest_asyncio        sspi\n",
      "_bootsubprocess     crypt               netbios             sspicon\n",
      "_bz2                cryptography        netrc               stat\n",
      "_cffi_backend       cssselect           networkx            statistics\n",
      "_codecs             csv                 nltk                statsmodels\n",
      "_codecs_cn          ctypes              nntplib             storemagic\n",
      "_codecs_hk          curl                nose                string\n",
      "_codecs_iso2022     curses              notebook            stringprep\n",
      "_codecs_jp          cwp                 nt                  struct\n",
      "_codecs_kr          cycler              ntpath              subprocess\n",
      "_codecs_tw          cython              ntsecuritycon       sunau\n",
      "_collections        cythonmagic         nturl2path          symbol\n",
      "_collections_abc    cytoolz             numba               sympy\n",
      "_compat_pickle      daal4py             numbergen           sympyprinting\n",
      "_compression        dask                numbers             symtable\n",
      "_contextvars        dataclasses         numexpr             sys\n",
      "_csv                datashader          numpy               sysconfig\n",
      "_ctypes             datashape           numpydoc            tables\n",
      "_ctypes_test        datetime            oauthlib            tabnanny\n",
      "_datetime           dateutil            odbc                tabulate\n",
      "_decimal            dbi                 olefile             tarfile\n",
      "_distutils_hack     dbm                 onedal              tbb\n",
      "_elementtree        dde                 opcode              tblib\n",
      "_functools          debugpy             openpyxl            telnetlib\n",
      "_hashlib            decimal             operator            tempfile\n",
      "_heapq              decorator           optparse            tenacity\n",
      "_imp                defusedxml          os                  terminado\n",
      "_io                 diff_match_patch    packaging           test\n",
      "_json               difflib             pandas              test_brownout\n",
      "_locale             dill                pandocfilters       test_pycosat\n",
      "_lsprof             dis                 panel               testpath\n",
      "_lzma               distributed         param               tests\n",
      "_markupbase         distutils           paramiko            text_unidecode\n",
      "_md5                doctest             parsel              textdistance\n",
      "_msi                docutils            parser              textwrap\n",
      "_multibytecodec     email               parso               this\n",
      "_multiprocessing    encodings           partd               threading\n",
      "_nsis               ensurepip           past                threadpoolctl\n",
      "_opcode             entrypoints         pathlib             three_merge\n",
      "_operator           enum                pathspec            tifffile\n",
      "_osx_support        erfa                patsy               time\n",
      "_overlapped         errno               pdb                 timeit\n",
      "_peg_parser         et_xmlfile          pep8                timer\n",
      "_pickle             fastjsonschema      perfmon             tinycss\n",
      "_plotly_future_     faulthandler        pexpect             tkinter\n",
      "_plotly_utils       filecmp             pickle              tldextract\n",
      "_py_abc             fileinput           pickleshare         tlz\n",
      "_pydecimal          filelock            pickletools         token\n",
      "_pyio               flake8              pip                 tokenize\n",
      "_pyrsistent_version flask               pipes               toml\n",
      "_pytest             fnmatch             pkg_resources       tomli\n",
      "_queue              fontTools           pkginfo             tomlkit\n",
      "_random             formatter           pkgutil             toolz\n",
      "_sha1               fractions           platform            tornado\n",
      "_sha256             fsspec              platformdirs        tqdm\n",
      "_sha3               ftplib              plistlib            trace\n",
      "_sha512             functools           plotly              traceback\n",
      "_signal             future              pluggy              tracemalloc\n",
      "_sitebuiltins       gc                  poplib              traitlets\n",
      "_socket             genericpath         posixpath           tty\n",
      "_sqlite3            gensim              poyo                turtle\n",
      "_sre                getopt              pprint              turtledemo\n",
      "_ssl                getpass             profile             twisted\n",
      "_stat               gettext             prometheus_client   types\n",
      "_statistics         glob                prompt_toolkit      typing\n",
      "_string             glob2               protego             typing_extensions\n",
      "_strptime           google_auth_oauthlib pstats              ujson\n",
      "_struct             graphlib            psutil              unicodedata\n",
      "_symtable           greenlet            pty                 unidecode\n",
      "_system_path        gspread             ptyprocess          unittest\n",
      "_testbuffer         gzip                pvectorc            urllib\n",
      "_testcapi           h5py                py                  urllib3\n",
      "_testconsole        hamcrest            py_compile          uu\n",
      "_testimportmultiple hashlib             pyasn1              uuid\n",
      "_testinternalcapi   heapdict            pyasn1_modules      venv\n",
      "_testmultiphase     heapq               pyclbr              w3lib\n",
      "_thread             hmac                pycodestyle         warnings\n",
      "_threading_local    holoviews           pycosat             watchdog\n",
      "_tkinter            html                pycparser           wave\n",
      "_tracemalloc        http                pyct                wcwidth\n",
      "_uuid               hvplot              pycurl              weakref\n",
      "_warnings           hyperlink           pydispatch          webbrowser\n",
      "_weakref            idlelib             pydoc               webencodings\n",
      "_weakrefset         idna                pydoc_data          websocket\n",
      "_win32sysloader     imagecodecs         pydocstyle          werkzeug\n",
      "_winapi             imageio             pyexpat             wheel\n",
      "_winxptheme         imagesize           pyflakes            widgetsnbextension\n",
      "_xxsubinterpreters  imaplib             pygame              win2kras\n",
      "_yaml               imghdr              pygments            win32api\n",
      "_zoneinfo           imp                 pylab               win32clipboard\n",
      "abc                 importlib           pylint              win32com\n",
      "adodbapi            importlib_metadata  pyls_spyder         win32con\n",
      "afxres              incremental         pylsp               win32console\n",
      "aifc                inflection          pylsp_black         win32cred\n",
      "alabaster           iniconfig           pylsp_jsonrpc       win32crypt\n",
      "anaconda_navigator  inspect             pyodbc              win32cryptcon\n",
      "anaconda_project    intake              pyparsing           win32ctypes\n",
      "antigravity         intervaltree        pyrsistent          win32event\n",
      "anyio               io                  pytest              win32evtlog\n",
      "appdirs             ipaddress           pythoncom           win32evtlogutil\n",
      "argon2              ipykernel           pytz                win32file\n",
      "argparse            ipykernel_launcher  pyviz_comms         win32gui\n",
      "array               ipython_genutils    pywin               win32gui_struct\n",
      "arrow               ipywidgets          pywin32_bootstrap   win32help\n",
      "ast                 isapi               pywin32_testutil    win32inet\n",
      "astroid             isort               pywintypes          win32inetcon\n",
      "astropy             isympy              pywt                win32job\n",
      "asynchat            itemadapter         pyximport           win32lz\n",
      "asyncio             itemloaders         qdarkstyle          win32net\n",
      "asyncore            itertools           qstylizer           win32netcon\n",
      "atexit              itsdangerous        qtawesome           win32pdh\n",
      "atomicwrites        jdcal               qtconsole           win32pdhquery\n",
      "attr                jedi                qtpy                win32pdhutil\n",
      "attrs               jellyfish           queue               win32pipe\n",
      "audioop             jinja2              queuelib            win32print\n",
      "automat             jinja2_time         quopri              win32process\n",
      "autopep8            jmespath            random              win32profile\n",
      "autoreload          joblib              rasutil             win32ras\n",
      "babel               json                re                  win32rcparser\n",
      "backcall            json5               regcheck            win32security\n",
      "backports           jsonschema          regex               win32service\n",
      "base64              jupyter             regutil             win32serviceutil\n",
      "bcrypt              jupyter_client      repo_cli            win32timezone\n",
      "bdb                 jupyter_console     reprlib             win32trace\n",
      "binaryornot         jupyter_core        requests            win32traceutil\n",
      "binascii            jupyter_server      requests_file       win32transaction\n",
      "binhex              jupyterlab          requests_oauthlib   win32ts\n",
      "binstar_client      jupyterlab_plotly   rlcompleter         win32ui\n",
      "bisect              jupyterlab_pygments rmagic              win32uiole\n",
      "bitarray            jupyterlab_server   rope                win32verstamp\n",
      "bkcharts            jupyterlab_widgets  rsa                 win32wnet\n",
      "black               jwt                 rtree               win_inet_pton\n",
      "blackd              keyring             ruamel_yaml         win_unicode_console\n",
      "bleach              keyword             run                 wincertstore\n",
      "blib2to3            kiwisolver          runpy               winerror\n",
      "bokeh               lazy_object_proxy   s3transfer          winioctlcon\n",
      "boto3               lib2to3             sched               winnt\n",
      "botocore            libarchive          scipy               winperf\n",
      "bottleneck          libfuturize         scrapy              winpty\n",
      "brotli              libpasteurize       seaborn             winreg\n",
      "bs4                 lief                secrets             winsound\n",
      "builtins            linecache           select              winxpgui\n",
      "bz2                 llvmlite            selectors           winxptheme\n",
      "cProfile            locale              send2trash          wrapt\n",
      "cachetools          locket              service_identity    wsgiref\n",
      "calendar            logging             servicemanager      xarray\n",
      "certifi             lxml                setuptools          xdrlib\n",
      "cffi                lz4                 shelve              xlrd\n",
      "cgi                 lzma                shlex               xlsxwriter\n",
      "cgitb               mailbox             shutil              xlwings\n",
      "chardet             mailcap             signal              xml\n",
      "charset_normalizer  markdown            sip                 xmlrpc\n",
      "chunk               markupsafe          sipconfig           xxsubtype\n",
      "click               marshal             sipdistutils        yaml\n",
      "cloudpickle         math                site                yapf\n",
      "clyent              matplotlib          six                 yapftests\n",
      "cmath               matplotlib_inline   skimage             zict\n",
      "cmd                 mccabe              sklearn             zipapp\n",
      "code                menuinst            sklearnex           zipfile\n",
      "codecs              mimetypes           slugify             zipimport\n",
      "codeop              mistune             smart_open          zipp\n",
      "collections         mkl                 smtpd               zlib\n",
      "colorama            mkl_fft             smtplib             zmq\n",
      "colorcet            mkl_random          snappy              zoneinfo\n",
      "colorsys            mmap                sndhdr              zope\n",
      "commctrl            mmapfile            sniffio             \n",
      "compileall          mmsystem            snowballstemmer     \n",
      "comtypes            mock                socket              \n",
      "\n",
      "Enter any module name to get more help.  Or, type \"modules spam\" to search\n",
      "for modules whose name or summary contain the string \"spam\".\n",
      "\n"
     ]
    }
   ],
   "source": [
    "help('modules')"
   ]
  },
  {
   "cell_type": "code",
   "execution_count": 2,
   "id": "878dd9d0",
   "metadata": {},
   "outputs": [],
   "source": [
    "#include<stdio.h>\n",
    "import math"
   ]
  },
  {
   "cell_type": "code",
   "execution_count": 3,
   "id": "eab76fcc",
   "metadata": {},
   "outputs": [
    {
     "data": {
      "text/plain": [
       "3.141592653589793"
      ]
     },
     "execution_count": 3,
     "metadata": {},
     "output_type": "execute_result"
    }
   ],
   "source": [
    "math.pi"
   ]
  },
  {
   "cell_type": "code",
   "execution_count": 7,
   "id": "e68aafc4",
   "metadata": {},
   "outputs": [
    {
     "data": {
      "text/plain": [
       "-0.3048106211022167"
      ]
     },
     "execution_count": 7,
     "metadata": {},
     "output_type": "execute_result"
    }
   ],
   "source": [
    "math.sin(60)"
   ]
  },
  {
   "cell_type": "code",
   "execution_count": 8,
   "id": "f012b109",
   "metadata": {},
   "outputs": [
    {
     "data": {
      "text/plain": [
       "2.718281828459045"
      ]
     },
     "execution_count": 8,
     "metadata": {},
     "output_type": "execute_result"
    }
   ],
   "source": [
    "math.e\n"
   ]
  },
  {
   "cell_type": "code",
   "execution_count": 9,
   "id": "9c802959",
   "metadata": {},
   "outputs": [
    {
     "data": {
      "text/plain": [
       "6"
      ]
     },
     "execution_count": 9,
     "metadata": {},
     "output_type": "execute_result"
    }
   ],
   "source": [
    "math.floor(6.5)"
   ]
  },
  {
   "cell_type": "code",
   "execution_count": 10,
   "id": "585a1bed",
   "metadata": {},
   "outputs": [
    {
     "data": {
      "text/plain": [
       "10"
      ]
     },
     "execution_count": 10,
     "metadata": {},
     "output_type": "execute_result"
    }
   ],
   "source": [
    "math.isqrt(100)"
   ]
  },
  {
   "cell_type": "code",
   "execution_count": 11,
   "id": "ea9b82ef",
   "metadata": {},
   "outputs": [],
   "source": [
    "import random"
   ]
  },
  {
   "cell_type": "code",
   "execution_count": 13,
   "id": "1ac33b9e",
   "metadata": {},
   "outputs": [
    {
     "data": {
      "text/plain": [
       "97"
      ]
     },
     "execution_count": 13,
     "metadata": {},
     "output_type": "execute_result"
    }
   ],
   "source": [
    "random.randint(1,100)"
   ]
  },
  {
   "cell_type": "code",
   "execution_count": 17,
   "id": "8fe89e95",
   "metadata": {},
   "outputs": [
    {
     "data": {
      "text/plain": [
       "[1, 2, 3, 5, 6, 4]"
      ]
     },
     "execution_count": 17,
     "metadata": {},
     "output_type": "execute_result"
    }
   ],
   "source": [
    "a=[1,2,3,4,5,6]\n",
    "random.shuffle(a) #postion change hoi hoi\n",
    "a"
   ]
  },
  {
   "cell_type": "code",
   "execution_count": 18,
   "id": "77740b55",
   "metadata": {},
   "outputs": [],
   "source": [
    "import time"
   ]
  },
  {
   "cell_type": "code",
   "execution_count": 19,
   "id": "cce9ea11",
   "metadata": {},
   "outputs": [
    {
     "data": {
      "text/plain": [
       "'Mon Jun  2 11:01:43 2025'"
      ]
     },
     "execution_count": 19,
     "metadata": {},
     "output_type": "execute_result"
    }
   ],
   "source": [
    "time.ctime()"
   ]
  },
  {
   "cell_type": "code",
   "execution_count": 20,
   "id": "c939cd82",
   "metadata": {},
   "outputs": [
    {
     "name": "stdout",
     "output_type": "stream",
     "text": [
      "hello\n",
      "word\n"
     ]
    }
   ],
   "source": [
    "print(\"hello\")\n",
    "time.sleep(1)\n",
    "print(\"word\")"
   ]
  },
  {
   "cell_type": "code",
   "execution_count": 21,
   "id": "78a1a0d3",
   "metadata": {},
   "outputs": [],
   "source": [
    "import os\n"
   ]
  },
  {
   "cell_type": "code",
   "execution_count": 22,
   "id": "4810286a",
   "metadata": {},
   "outputs": [
    {
     "data": {
      "text/plain": [
       "'C:\\\\Users\\\\HP\\\\Desktop\\\\Python A'"
      ]
     },
     "execution_count": 22,
     "metadata": {},
     "output_type": "execute_result"
    }
   ],
   "source": [
    "os.getcwd()"
   ]
  },
  {
   "cell_type": "code",
   "execution_count": 23,
   "id": "9de86a3a",
   "metadata": {},
   "outputs": [
    {
     "data": {
      "text/plain": [
       "['.ipynb_checkpoints',\n",
       " 'Built-in Functions in Python main.ipynb',\n",
       " 'Built-in Functions in Python.ipynb',\n",
       " 'Built-in Modules in Python_How to use Modules in Python.ipynb',\n",
       " 'For Loop In Python.ipynb',\n",
       " 'Guessing Game in Python.ipynb',\n",
       " 'Nested Loops in Python.ipynb',\n",
       " '[1]_Print_function.ipynb',\n",
       " '[2]_Data_Types_in_Python.ipynb',\n",
       " '[3]_Variable_in_Python.ipynb',\n",
       " '[4]_Keywords_and_Identifiers_in_Python.ipynb',\n",
       " '[5]_Taking_user_input_in_Python .ipynb',\n",
       " '[6]_Operators in Python.ipynb',\n",
       " '[7]_If-else Statements in Python .ipynb',\n",
       " '[8]_While Loop in Python.ipynb',\n",
       " '[9]_Guessing Game in Python.ipynb']"
      ]
     },
     "execution_count": 23,
     "metadata": {},
     "output_type": "execute_result"
    }
   ],
   "source": [
    "os.listdir()"
   ]
  },
  {
   "cell_type": "code",
   "execution_count": null,
   "id": "ffd8df32",
   "metadata": {},
   "outputs": [],
   "source": []
  }
 ],
 "metadata": {
  "kernelspec": {
   "display_name": "Python 3 (ipykernel)",
   "language": "python",
   "name": "python3"
  },
  "language_info": {
   "codemirror_mode": {
    "name": "ipython",
    "version": 3
   },
   "file_extension": ".py",
   "mimetype": "text/x-python",
   "name": "python",
   "nbconvert_exporter": "python",
   "pygments_lexer": "ipython3",
   "version": "3.9.13"
  }
 },
 "nbformat": 4,
 "nbformat_minor": 5
}
