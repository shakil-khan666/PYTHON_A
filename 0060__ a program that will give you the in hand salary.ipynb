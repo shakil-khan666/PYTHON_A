{
 "cells": [
  {
   "cell_type": "code",
   "execution_count": 6,
   "id": "ac638fca",
   "metadata": {},
   "outputs": [
    {
     "name": "stdout",
     "output_type": "stream",
     "text": [
      "682000.0\n"
     ]
    }
   ],
   "source": [
    "def Grosss_salary(gross_salary:int)->int:\n",
    "    if gross_salary <= 100000:\n",
    "        return \"k\"\n",
    "    \n",
    "    hra = gross_salary*0.1\n",
    "    da=gross_salary*0.05\n",
    "    pf = gross_salary*0.03\n",
    "    \n",
    "    if 500000 <= gross_salary <= 1000000:\n",
    "        tax = gross_salary * 0.10\n",
    "    elif 1000000 < gross_salary <= 2000000:\n",
    "        tax = gross_salary * 0.20\n",
    "    elif gross_salary > 2000000:\n",
    "        tax = gross_salary * 0.30\n",
    "    else:\n",
    "        tax = 0\n",
    "    \n",
    "    total_deduction = hra+da+pf+tax\n",
    "    handsome_salary = gross_salary - total_deduction\n",
    "    \n",
    "    return handsome_salary\n",
    "\n",
    "\n",
    "print(Grosss_salary(1100000))"
   ]
  },
  {
   "cell_type": "code",
   "execution_count": null,
   "id": "a372a180",
   "metadata": {},
   "outputs": [],
   "source": []
  }
 ],
 "metadata": {
  "kernelspec": {
   "display_name": "Python 3 (ipykernel)",
   "language": "python",
   "name": "python3"
  },
  "language_info": {
   "codemirror_mode": {
    "name": "ipython",
    "version": 3
   },
   "file_extension": ".py",
   "mimetype": "text/x-python",
   "name": "python",
   "nbconvert_exporter": "python",
   "pygments_lexer": "ipython3",
   "version": "3.9.13"
  }
 },
 "nbformat": 4,
 "nbformat_minor": 5
}
