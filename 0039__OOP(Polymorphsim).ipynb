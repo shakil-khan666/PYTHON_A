{
 "cells": [
  {
   "cell_type": "code",
   "execution_count": 4,
   "id": "5427e72b",
   "metadata": {},
   "outputs": [
    {
     "name": "stdout",
     "output_type": "stream",
     "text": [
      "Circle 12.5664\n",
      "Rectangle 20\n"
     ]
    }
   ],
   "source": [
    "class Geometry:\n",
    "    def area(self,a,b=0):\n",
    "        if b==0:\n",
    "            print(\"Circle\",3.1416*a)\n",
    "        else:\n",
    "            print(\"Rectangle\",a*b)\n",
    "       \n",
    "\n",
    "obj=Geometry()\n",
    "obj.area(4)#ei khane class same name duita function call kora jabe nh jar jonno ekta function ekadin para meetr pass kora ar different relut dekha je method overloading\n",
    "obj.area(4,5)#different input different result thats means method over loading"
   ]
  },
  {
   "cell_type": "code",
   "execution_count": null,
   "id": "98ca28c8",
   "metadata": {},
   "outputs": [],
   "source": []
  }
 ],
 "metadata": {
  "kernelspec": {
   "display_name": "Python 3 (ipykernel)",
   "language": "python",
   "name": "python3"
  },
  "language_info": {
   "codemirror_mode": {
    "name": "ipython",
    "version": 3
   },
   "file_extension": ".py",
   "mimetype": "text/x-python",
   "name": "python",
   "nbconvert_exporter": "python",
   "pygments_lexer": "ipython3",
   "version": "3.9.13"
  }
 },
 "nbformat": 4,
 "nbformat_minor": 5
}
