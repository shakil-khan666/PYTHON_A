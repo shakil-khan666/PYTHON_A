{
 "cells": [
  {
   "cell_type": "code",
   "execution_count": 4,
   "id": "b3a49b49",
   "metadata": {},
   "outputs": [],
   "source": [
    "#class using loop"
   ]
  },
  {
   "cell_type": "code",
   "execution_count": 3,
   "id": "562add36",
   "metadata": {},
   "outputs": [
    {
     "name": "stdout",
     "output_type": "stream",
     "text": [
      "Shakil khan 24\n",
      "jemi 25\n",
      "Safwan 10\n"
     ]
    }
   ],
   "source": [
    "class Customer:\n",
    "    def __init__(self,name,age):\n",
    "        self.name=name\n",
    "        self.age=age\n",
    "\n",
    "\n",
    "        \n",
    "c1=Customer(\"Shakil khan\",\"24\")\n",
    "c2=Customer(\"jemi\",\"25\")\n",
    "c3=Customer(\"Safwan\",\"10\")\n",
    "\n",
    "L=[c1,c2,c3]\n",
    "for i in L:\n",
    "    print(i.name,i.age)\n",
    "        \n",
    "        "
   ]
  },
  {
   "cell_type": "code",
   "execution_count": null,
   "id": "ba21f74e",
   "metadata": {},
   "outputs": [],
   "source": [
    "#using loop and with function"
   ]
  },
  {
   "cell_type": "code",
   "execution_count": 7,
   "id": "3a76ddce",
   "metadata": {},
   "outputs": [
    {
     "name": "stdout",
     "output_type": "stream",
     "text": [
      "I am I am 24\n",
      "I am I am 25\n",
      "I am I am 10\n"
     ]
    }
   ],
   "source": [
    "class Customer:\n",
    "    def __init__(self,name,age):\n",
    "        self.name=name\n",
    "        self.age=age\n",
    "    def intro(self):\n",
    "        print(\"I am\",self.name and \"I am\",self.age)\n",
    "\n",
    "\n",
    "        \n",
    "c1=Customer(\"Shakil khan\",\"24\")\n",
    "c2=Customer(\"jemi\",\"25\")\n",
    "c3=Customer(\"Safwan\",\"10\")\n",
    "\n",
    "L=[c1,c2,c3]\n",
    "for i in L:\n",
    "     i.intro()"
   ]
  },
  {
   "cell_type": "code",
   "execution_count": null,
   "id": "c04498fb",
   "metadata": {},
   "outputs": [],
   "source": []
  }
 ],
 "metadata": {
  "kernelspec": {
   "display_name": "Python 3 (ipykernel)",
   "language": "python",
   "name": "python3"
  },
  "language_info": {
   "codemirror_mode": {
    "name": "ipython",
    "version": 3
   },
   "file_extension": ".py",
   "mimetype": "text/x-python",
   "name": "python",
   "nbconvert_exporter": "python",
   "pygments_lexer": "ipython3",
   "version": "3.9.13"
  }
 },
 "nbformat": 4,
 "nbformat_minor": 5
}
