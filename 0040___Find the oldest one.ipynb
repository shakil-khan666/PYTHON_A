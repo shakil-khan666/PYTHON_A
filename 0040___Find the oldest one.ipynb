{
 "cells": [
  {
   "cell_type": "code",
   "execution_count": 6,
   "id": "c7096da2",
   "metadata": {},
   "outputs": [
    {
     "name": "stdout",
     "output_type": "stream",
     "text": [
      "please enter the number_1 : 10\n",
      "please enter the number_2 : 20\n",
      "please enter the number_3 : 30\n",
      "Number_3 is oldest 30\n"
     ]
    }
   ],
   "source": [
    "num_1=int(input(\"please enter the number_1 : \"))\n",
    "num_2=int(input(\"please enter the number_2 : \"))\n",
    "num_3=int(input(\"please enter the number_3 : \"))\n",
    "\n",
    "if num_1>num_2 and num_1>num_3:\n",
    "         print(\"number_1 is oldest : \",num_1)\n",
    "elif num_2>num_1 and num_2>num_3:\n",
    "         print(\"Number_2 is oldest: \",num_2)\n",
    "else:\n",
    "         print(\"Number_3 is oldest\",num_3)\n",
    "         \n",
    "         \n"
   ]
  },
  {
   "cell_type": "code",
   "execution_count": null,
   "id": "94edbd33",
   "metadata": {},
   "outputs": [],
   "source": []
  }
 ],
 "metadata": {
  "kernelspec": {
   "display_name": "Python 3 (ipykernel)",
   "language": "python",
   "name": "python3"
  },
  "language_info": {
   "codemirror_mode": {
    "name": "ipython",
    "version": 3
   },
   "file_extension": ".py",
   "mimetype": "text/x-python",
   "name": "python",
   "nbconvert_exporter": "python",
   "pygments_lexer": "ipython3",
   "version": "3.9.13"
  }
 },
 "nbformat": 4,
 "nbformat_minor": 5
}
