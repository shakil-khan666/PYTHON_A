{
 "cells": [
  {
   "cell_type": "code",
   "execution_count": 2,
   "id": "d1a0cd46",
   "metadata": {},
   "outputs": [
    {
     "name": "stdout",
     "output_type": "stream",
     "text": [
      "Enter the Temperature: 25\n",
      "Enter the Humidity: 85\n",
      "Cool\n"
     ]
    }
   ],
   "source": [
    "temperature = int(input(\"Enter the Temperature: \"))\n",
    "humidity = int(input(\"Enter the Humidity: \"))\n",
    "if temperature>= 30 and humidity >=90:\n",
    "     print(\"Hot and Humid\")\n",
    "elif  temperature>= 30 and humidity <90:\n",
    "    print(\"Hot\")\n",
    "elif  temperature<30 and humidity >=90:\n",
    "    print(\"Cool and Humid\")\n",
    "else :\n",
    "    print(\"Cool\")\n"
   ]
  },
  {
   "cell_type": "code",
   "execution_count": null,
   "id": "9af1799f",
   "metadata": {},
   "outputs": [],
   "source": []
  }
 ],
 "metadata": {
  "kernelspec": {
   "display_name": "Python 3 (ipykernel)",
   "language": "python",
   "name": "python3"
  },
  "language_info": {
   "codemirror_mode": {
    "name": "ipython",
    "version": 3
   },
   "file_extension": ".py",
   "mimetype": "text/x-python",
   "name": "python",
   "nbconvert_exporter": "python",
   "pygments_lexer": "ipython3",
   "version": "3.9.13"
  }
 },
 "nbformat": 4,
 "nbformat_minor": 5
}
