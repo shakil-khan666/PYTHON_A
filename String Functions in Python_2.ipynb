{
 "cells": [
  {
   "cell_type": "code",
   "execution_count": 2,
   "id": "0421d488",
   "metadata": {},
   "outputs": [
    {
     "name": "stdout",
     "output_type": "stream",
     "text": [
      "taybea\n"
     ]
    }
   ],
   "source": [
    "c = \"taybea\"\n",
    "print(c)"
   ]
  },
  {
   "cell_type": "code",
   "execution_count": 3,
   "id": "a648ad85",
   "metadata": {},
   "outputs": [
    {
     "data": {
      "text/plain": [
       "6"
      ]
     },
     "execution_count": 3,
     "metadata": {},
     "output_type": "execute_result"
    }
   ],
   "source": [
    "len(c)"
   ]
  },
  {
   "cell_type": "code",
   "execution_count": 4,
   "id": "98a59ec1",
   "metadata": {},
   "outputs": [
    {
     "data": {
      "text/plain": [
       "'y'"
      ]
     },
     "execution_count": 4,
     "metadata": {},
     "output_type": "execute_result"
    }
   ],
   "source": [
    "max(c)"
   ]
  },
  {
   "cell_type": "code",
   "execution_count": 5,
   "id": "db4e930f",
   "metadata": {},
   "outputs": [
    {
     "data": {
      "text/plain": [
       "'a'"
      ]
     },
     "execution_count": 5,
     "metadata": {},
     "output_type": "execute_result"
    }
   ],
   "source": [
    "min(c)"
   ]
  },
  {
   "cell_type": "code",
   "execution_count": 7,
   "id": "0ff694b7",
   "metadata": {},
   "outputs": [
    {
     "data": {
      "text/plain": [
       "['a', 'a', 'b', 'e', 't', 'y']"
      ]
     },
     "execution_count": 7,
     "metadata": {},
     "output_type": "execute_result"
    }
   ],
   "source": [
    "sorted(c)"
   ]
  },
  {
   "cell_type": "code",
   "execution_count": 8,
   "id": "cc74e460",
   "metadata": {},
   "outputs": [
    {
     "data": {
      "text/plain": [
       "['y', 't', 'e', 'b', 'a', 'a']"
      ]
     },
     "execution_count": 8,
     "metadata": {},
     "output_type": "execute_result"
    }
   ],
   "source": [
    "sorted(c,reverse = True)"
   ]
  },
  {
   "cell_type": "code",
   "execution_count": 9,
   "id": "d1885632",
   "metadata": {},
   "outputs": [
    {
     "data": {
      "text/plain": [
       "'It is raning to day '"
      ]
     },
     "execution_count": 9,
     "metadata": {},
     "output_type": "execute_result"
    }
   ],
   "source": [
    "\"it is raning to day \".capitalize()"
   ]
  },
  {
   "cell_type": "code",
   "execution_count": 10,
   "id": "d28c59eb",
   "metadata": {},
   "outputs": [
    {
     "data": {
      "text/plain": [
       "'It Is Raning To Day '"
      ]
     },
     "execution_count": 10,
     "metadata": {},
     "output_type": "execute_result"
    }
   ],
   "source": [
    "\"it is raning to day \".title()"
   ]
  },
  {
   "cell_type": "code",
   "execution_count": 13,
   "id": "ce873f51",
   "metadata": {},
   "outputs": [
    {
     "data": {
      "text/plain": [
       "2"
      ]
     },
     "execution_count": 13,
     "metadata": {},
     "output_type": "execute_result"
    }
   ],
   "source": [
    "\"it is raning to day\".count(\"t\")"
   ]
  },
  {
   "cell_type": "code",
   "execution_count": 15,
   "id": "68303de3",
   "metadata": {},
   "outputs": [
    {
     "data": {
      "text/plain": [
       "16"
      ]
     },
     "execution_count": 15,
     "metadata": {},
     "output_type": "execute_result"
    }
   ],
   "source": [
    "\"it is raning to day \".find(\"d\")"
   ]
  },
  {
   "cell_type": "code",
   "execution_count": 19,
   "id": "7702cac9",
   "metadata": {},
   "outputs": [
    {
     "data": {
      "text/plain": [
       "'it is rain to dayand i love you when my age 20'"
      ]
     },
     "execution_count": 19,
     "metadata": {},
     "output_type": "execute_result"
    }
   ],
   "source": [
    "\"it is {} to dayand i love you when my age {}\".format(\"rain\",20)"
   ]
  },
  {
   "cell_type": "code",
   "execution_count": 20,
   "id": "5994853f",
   "metadata": {},
   "outputs": [
    {
     "data": {
      "text/plain": [
       "'it is rain to dayand i love you when my age 20'"
      ]
     },
     "execution_count": 20,
     "metadata": {},
     "output_type": "execute_result"
    }
   ],
   "source": [
    "\"it is {name} to dayand i love you when my age {age}\".format(name = \"rain\",age =20)"
   ]
  },
  {
   "cell_type": "code",
   "execution_count": 22,
   "id": "d9d84ca5",
   "metadata": {},
   "outputs": [
    {
     "data": {
      "text/plain": [
       "False"
      ]
     },
     "execution_count": 22,
     "metadata": {},
     "output_type": "execute_result"
    }
   ],
   "source": [
    "\"Flat20&\".isalnum()"
   ]
  },
  {
   "cell_type": "code",
   "execution_count": 23,
   "id": "7745ed11",
   "metadata": {},
   "outputs": [
    {
     "data": {
      "text/plain": [
       "['it', 'is', 'rain', 'to', 'dayand', 'i', 'love', 'you']"
      ]
     },
     "execution_count": 23,
     "metadata": {},
     "output_type": "execute_result"
    }
   ],
   "source": [
    "\"it is rain to dayand i love you \".split()"
   ]
  },
  {
   "cell_type": "code",
   "execution_count": 26,
   "id": "683d9eb9",
   "metadata": {},
   "outputs": [
    {
     "data": {
      "text/plain": [
       "['i', ' is rain ', 'o dayand i love you ']"
      ]
     },
     "execution_count": 26,
     "metadata": {},
     "output_type": "execute_result"
    }
   ],
   "source": [
    "\"it is rain to dayand i love you \".split(\"t\")"
   ]
  },
  {
   "cell_type": "code",
   "execution_count": 31,
   "id": "35693120",
   "metadata": {},
   "outputs": [
    {
     "data": {
      "text/plain": [
       "'it-is-rain-to-dayand-i-love-you'"
      ]
     },
     "execution_count": 31,
     "metadata": {},
     "output_type": "execute_result"
    }
   ],
   "source": [
    "\"-\".join(['it', 'is', 'rain', 'to', 'dayand', 'i', 'love', 'you'])"
   ]
  },
  {
   "cell_type": "code",
   "execution_count": null,
   "id": "a1add893",
   "metadata": {},
   "outputs": [],
   "source": []
  }
 ],
 "metadata": {
  "kernelspec": {
   "display_name": "Python 3 (ipykernel)",
   "language": "python",
   "name": "python3"
  },
  "language_info": {
   "codemirror_mode": {
    "name": "ipython",
    "version": 3
   },
   "file_extension": ".py",
   "mimetype": "text/x-python",
   "name": "python",
   "nbconvert_exporter": "python",
   "pygments_lexer": "ipython3",
   "version": "3.9.13"
  }
 },
 "nbformat": 4,
 "nbformat_minor": 5
}
